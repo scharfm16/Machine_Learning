{
  "nbformat": 4,
  "nbformat_minor": 0,
  "metadata": {
    "colab": {
      "name": "hw4.ipynb",
      "provenance": [],
      "collapsed_sections": []
    },
    "kernelspec": {
      "display_name": "Python 3",
      "language": "python",
      "name": "python3"
    },
    "language_info": {
      "codemirror_mode": {
        "name": "ipython",
        "version": 3
      },
      "file_extension": ".py",
      "mimetype": "text/x-python",
      "name": "python",
      "nbconvert_exporter": "python",
      "pygments_lexer": "ipython3",
      "version": "3.6.7"
    }
  },
  "cells": [
    {
      "cell_type": "markdown",
      "metadata": {
        "id": "KAqXcDzKwj4D",
        "colab_type": "text"
      },
      "source": [
        "# Homework 4: Coding\n",
        "\n",
        "**Due Monday October 7th, 11:59pm.**\n",
        "\n",
        "**This is an individual assignment.**\n",
        "\n",
        "**There is no autograder submission, please add your responses and graphs to your LaTeX submission as indicated in the assignment.**"
      ]
    },
    {
      "cell_type": "code",
      "metadata": {
        "colab_type": "code",
        "id": "mqy1LtZCIQuG",
        "colab": {}
      },
      "source": [
        "\"\"\"\n",
        "Import libraries that you might require\n",
        "\"\"\"\n",
        "\n",
        "import numpy as np\n",
        "import math\n",
        "import matplotlib.pyplot as plt\n",
        "import operator\n",
        "from sklearn.metrics import accuracy_score\n",
        "import sklearn.model_selection as ms\n",
        "\n",
        "\n",
        "from sklearn.ensemble import RandomForestClassifier\n",
        "from sklearn.svm import SVC\n",
        "from sklearn.neural_network import MLPClassifier\n"
      ],
      "execution_count": 0,
      "outputs": []
    },
    {
      "cell_type": "code",
      "metadata": {
        "colab_type": "code",
        "id": "5qmuIim2IQuK",
        "outputId": "a204834f-eff8-447e-e71e-86592f9cf610",
        "colab": {
          "base_uri": "https://localhost:8080/",
          "height": 34
        }
      },
      "source": [
        "\"\"\"\n",
        "Load data (MNIST digits dataset).\n",
        "\n",
        "Note that we will skip the validation phase for\n",
        "this exercise as by now you are pretty familiar with the typical Machine Learning\n",
        "pipeline.\n",
        "\"\"\"\n",
        "\n",
        "from sklearn.datasets import load_digits\n",
        "digits = load_digits()\n",
        "print(digits.data.shape)\n",
        "\n",
        "X = digits['data']\n",
        "y = digits['target']\n",
        "\n",
        "np.random.seed(100)\n",
        "p = np.random.permutation(len(X))\n",
        "X, y = X[p], y[p]\n",
        "\n",
        "X_train, y_train = X[:1500], y[:1500]\n",
        "X_test, y_test = X[1500:], y[1500:]\n"
      ],
      "execution_count": 0,
      "outputs": [
        {
          "output_type": "stream",
          "text": [
            "(1797, 64)\n"
          ],
          "name": "stdout"
        }
      ]
    },
    {
      "cell_type": "markdown",
      "metadata": {
        "colab_type": "text",
        "id": "XmURULzoXCvq"
      },
      "source": [
        "# Question 2: Performance Comparisons for three ML algorithms"
      ]
    },
    {
      "cell_type": "markdown",
      "metadata": {
        "id": "z_EG5SVkxrzs",
        "colab_type": "text"
      },
      "source": [
        "## Random Forest Classifier"
      ]
    },
    {
      "cell_type": "code",
      "metadata": {
        "colab_type": "code",
        "id": "9KC2aNmoXCvr",
        "outputId": "f966719d-08b1-468c-d7cd-726bd283b78e",
        "colab": {
          "base_uri": "https://localhost:8080/",
          "height": 102
        }
      },
      "source": [
        "class randomForestScikit:\n",
        "  \n",
        "  def modelRF(self):\n",
        "    \"\"\"\n",
        "    Creates model objects for the Random Forest Classifier.\n",
        "    See the documentation in sklearn here:\n",
        "    https://scikit-learn.org/stable/modules/generated/sklearn.ensemble.RandomForestClassifier.html\n",
        "    \"\"\"\n",
        "    \n",
        "    list_n_estimators = [1, 10, 50, 100, 500]\n",
        "    random_state = 42 # Do not change this random_state\n",
        "\n",
        "  \n",
        "    objs_RFC = []\n",
        "    \n",
        "    for n_estimators in list_n_estimators:\n",
        "      objs_RFC.append(RandomForestClassifier(n_estimators=n_estimators, random_state=random_state))\n",
        "\n",
        "    return objs_RFC\n",
        "    \n",
        "    \n",
        "  def trainRF(self,models, X_train, y_train, X_test, y_test):\n",
        "    \"\"\"\n",
        "    Trains several models and returns the test accuracy for each of them\n",
        "    Args:\n",
        "        models: list of model objects\n",
        "    Returns:\n",
        "        score (list): list of accuracies of the different fitted models on test set\n",
        "    \"\"\"\n",
        "    \n",
        "    accuracies = []\n",
        "\n",
        "    for model in models:\n",
        "      model.fit(X_train, y_train)\n",
        "      accuracies.append(model.score(X_test, y_test))\n",
        "      \n",
        "    return accuracies\n",
        "\n",
        "forest = randomForestScikit()\n",
        "forest.trainRF(forest.modelRF(), X_train, y_train, X_test, y_test)"
      ],
      "execution_count": 0,
      "outputs": [
        {
          "output_type": "execute_result",
          "data": {
            "text/plain": [
              "[0.7643097643097643,\n",
              " 0.9461279461279462,\n",
              " 0.9663299663299664,\n",
              " 0.9696969696969697,\n",
              " 0.9730639730639731]"
            ]
          },
          "metadata": {
            "tags": []
          },
          "execution_count": 16
        }
      ]
    },
    {
      "cell_type": "markdown",
      "metadata": {
        "id": "oJrNWsSgz6yh",
        "colab_type": "text"
      },
      "source": [
        "## Kernel SVM"
      ]
    },
    {
      "cell_type": "code",
      "metadata": {
        "colab_type": "code",
        "id": "ZLg9s5T4pAus",
        "outputId": "5ba5e893-b4c0-469b-c9ef-539777a533e2",
        "colab": {
          "base_uri": "https://localhost:8080/",
          "height": 122
        }
      },
      "source": [
        "\n",
        "class kernelSVMScikit:\n",
        "  \n",
        "  def modelKSVM(self):\n",
        "    \"\"\"\n",
        "    Creates model objects for the Kernel SVM.\n",
        "    See the documentation in sklearn here:\n",
        "    https://scikit-learn.org/stable/modules/svm.html\n",
        "    \"\"\"\n",
        "    \n",
        "    list_kernel_type = ['linear', 'poly', 'rbf']\n",
        "    random_state = 42 # Do not change this random_state\n",
        "\n",
        "    objs_KSVM = []\n",
        "    \n",
        "    # To complete: Create a list of objects for the classifier for each of the above \"kernel\"\n",
        "\n",
        "    for kernel in list_kernel_type:\n",
        "      model = SVC(kernel = kernel, random_state=random_state)\n",
        "      objs_KSVM.append(model)\n",
        "    return objs_KSVM\n",
        "    \n",
        "    \n",
        "  def trainKSVM(self, models, X_train, y_train, X_test, y_test):\n",
        "    \"\"\"\n",
        "    Trains several models and returns the test accuracy for each of them\n",
        "    Args:\n",
        "        models: list of model objects\n",
        "    Returns:\n",
        "        score (list): list of accuracies of the different fitted models on test set\n",
        "    \"\"\"\n",
        "\n",
        "    accuracies = []\n",
        "    \n",
        "    for model in models:\n",
        "      model.fit(X_train, y_train)\n",
        "      accuracies.append(model.score(X_test, y_test))\n",
        "      \n",
        "    return accuracies\n",
        "\n",
        "\n",
        "SVM = kernelSVMScikit()\n",
        "SVM.trainKSVM(SVM.modelKSVM(), X_train, y_train, X_test, y_test)\n",
        "    "
      ],
      "execution_count": 0,
      "outputs": [
        {
          "output_type": "stream",
          "text": [
            "/usr/local/lib/python3.6/dist-packages/sklearn/svm/base.py:193: FutureWarning: The default value of gamma will change from 'auto' to 'scale' in version 0.22 to account better for unscaled features. Set gamma explicitly to 'auto' or 'scale' to avoid this warning.\n",
            "  \"avoid this warning.\", FutureWarning)\n",
            "/usr/local/lib/python3.6/dist-packages/sklearn/svm/base.py:193: FutureWarning: The default value of gamma will change from 'auto' to 'scale' in version 0.22 to account better for unscaled features. Set gamma explicitly to 'auto' or 'scale' to avoid this warning.\n",
            "  \"avoid this warning.\", FutureWarning)\n"
          ],
          "name": "stderr"
        },
        {
          "output_type": "execute_result",
          "data": {
            "text/plain": [
              "[0.9831649831649831, 0.9865319865319865, 0.4478114478114478]"
            ]
          },
          "metadata": {
            "tags": []
          },
          "execution_count": 18
        }
      ]
    },
    {
      "cell_type": "markdown",
      "metadata": {
        "id": "8vSc15PpxyS2",
        "colab_type": "text"
      },
      "source": [
        "## Multi Layer Perceptron"
      ]
    },
    {
      "cell_type": "code",
      "metadata": {
        "colab_type": "code",
        "id": "ejmbeisHpBdO",
        "outputId": "0fe5343d-0bec-4fee-890b-51d2d26b8adf",
        "colab": {
          "base_uri": "https://localhost:8080/",
          "height": 85
        }
      },
      "source": [
        "\n",
        "class MLPScikit:\n",
        "  \n",
        "  def modelMLP(self):\n",
        "    \"\"\"\n",
        "    Creates model objects for the Multi Layered Perceptron.\n",
        "    See the documentation in sklearn here:\n",
        "    https://scikit-learn.org/stable/modules/generated/sklearn.neural_network.MLPClassifier.html\n",
        "    \"\"\"\n",
        "    \n",
        "    \n",
        "    layerSizes = [(3), (10), (10,10,10), (20,50,20)]\n",
        "    random_state = 42 # Do not change this random_state\n",
        "    max_iter = 2000 # fixed max_iter\n",
        "    \n",
        "    objs_MLP = []\n",
        "\n",
        "    for layersize in layerSizes:\n",
        "      model = MLPClassifier(hidden_layer_sizes=layersize, max_iter=max_iter, random_state=random_state)\n",
        "      objs_MLP.append(model)\n",
        "    # To complete: Create a list of objects for the classifier for each of the above \"n_estimators\"\n",
        "\n",
        "    return objs_MLP\n",
        "    \n",
        "    \n",
        "  def trainMLP(self, models, X_train, y_train, X_test, y_test):\n",
        "    \"\"\"\n",
        "    Trains several models and returns the test accuracy for each of them\n",
        "    Args:\n",
        "        models: list of model objects\n",
        "    Returns:\n",
        "        score (list): list of accuracies of the different fitted models on test set\n",
        "    \"\"\"\n",
        "    \n",
        "    accuracies = []\n",
        "\n",
        "    for model in models:\n",
        "      model.fit(X_train, y_train)\n",
        "      accuracies.append(model.score(X_test, y_test))\n",
        "      \n",
        "    return accuracies\n",
        "\n",
        "\n",
        "SVM = MLPScikit()\n",
        "SVM.trainMLP(SVM.modelMLP(), X_train, y_train, X_test, y_test)\n",
        "    "
      ],
      "execution_count": 0,
      "outputs": [
        {
          "output_type": "execute_result",
          "data": {
            "text/plain": [
              "[0.7205387205387206,\n",
              " 0.9427609427609428,\n",
              " 0.9461279461279462,\n",
              " 0.9629629629629629]"
            ]
          },
          "metadata": {
            "tags": []
          },
          "execution_count": 19
        }
      ]
    },
    {
      "cell_type": "markdown",
      "metadata": {
        "id": "U9fIU8eP_X1u",
        "colab_type": "text"
      },
      "source": [
        "# Question 3.2 Convolutional Neural Networks  \n",
        "In this assignment you will be training a Convolutional Neural Network on  \n",
        "the Fashion MNIST dataset.  \n",
        "\n",
        "You may find more information about the dataset [here](https://github.com/zalandoresearch/fashion-mnist).  \n",
        "For this assignment we have already loaded the dataset for you.  \n",
        "  \n",
        "You will be using PyTorch for implementing your CNN. \n",
        "\n",
        "**We highly recommend following [this tutorial](https://pytorch.org/tutorials/beginner/blitz/cifar10_tutorial.html#sphx-glr-beginner-blitz-cifar10-tutorial-py) for this question** as well as referring to the [official documentation](https://pytorch.org/docs/stable/nn.html) if you are unfamiliar with Pytorch."
      ]
    },
    {
      "cell_type": "markdown",
      "metadata": {
        "colab_type": "text",
        "id": "mL1q9V0O13B6"
      },
      "source": [
        "## Setup: Load Tensorboard\n",
        "\n",
        "The below code is used to load [Tensorboard](https://www.tensorflow.org/guide/summaries_and_tensorboard), which is used to visualize the training and execution of your neural network.\n",
        "\n",
        "Run the below cells and click on the Tensorboard link produced by the third cell below while your network is training (Section 3.2.5) to plot the accuracy and loss curves."
      ]
    },
    {
      "cell_type": "code",
      "metadata": {
        "colab_type": "code",
        "id": "XWS884Qt13Bd",
        "outputId": "8fe47dc3-65a7-4da7-dee5-5ddb0c0b8916",
        "colab": {
          "base_uri": "https://localhost:8080/",
          "height": 34
        }
      },
      "source": [
        "!rm -r -f ./logs\n",
        "\n",
        "LOG_DIR = './logs'\n",
        "get_ipython().system_raw(\n",
        "    'tensorboard --logdir {} --host 0.0.0.0 --port 6006 &'\n",
        "    .format(LOG_DIR)\n",
        ")\n",
        "\n",
        "!if [ -f ngrok ] ; then echo \"Ngrok already installed\" ; else wget https://bin.equinox.io/c/4VmDzA7iaHb/ngrok-stable-linux-amd64.zip > /dev/null 2>&1 && unzip ngrok-stable-linux-amd64.zip > /dev/null 2>&1 ; fi"
      ],
      "execution_count": 0,
      "outputs": [
        {
          "output_type": "stream",
          "text": [
            "Ngrok already installed\n"
          ],
          "name": "stdout"
        }
      ]
    },
    {
      "cell_type": "code",
      "metadata": {
        "colab_type": "code",
        "id": "rvbnO1JX13BO",
        "colab": {}
      },
      "source": [
        "get_ipython().system_raw('./ngrok http 6006 &')"
      ],
      "execution_count": 0,
      "outputs": []
    },
    {
      "cell_type": "code",
      "metadata": {
        "colab_type": "code",
        "id": "w0lafkzw13Ak",
        "outputId": "19777169-2fb7-46cc-9ded-8d4d3191975d",
        "colab": {
          "base_uri": "https://localhost:8080/",
          "height": 34
        }
      },
      "source": [
        "! curl -s http://localhost:4040/api/tunnels | python3 -c \\\n",
        "    \"import sys, json; print('Tensorboard Link: ' +str(json.load(sys.stdin)['tunnels'][0]['public_url']))\""
      ],
      "execution_count": 0,
      "outputs": [
        {
          "output_type": "stream",
          "text": [
            "Tensorboard Link: https://3c0c2295.ngrok.io\n"
          ],
          "name": "stdout"
        }
      ]
    },
    {
      "cell_type": "markdown",
      "metadata": {
        "id": "HSeELIRYjGSG",
        "colab_type": "text"
      },
      "source": [
        "## Setup: Logger\n",
        "\n",
        "Please look at the functions the logger class provides. You may use them to log   \n",
        "training metrics like loss, accuracy and even some selected images and their  \n",
        "labels to see how network parameters change during training."
      ]
    },
    {
      "cell_type": "code",
      "metadata": {
        "id": "ipIykcBHt1dk",
        "colab_type": "code",
        "colab": {}
      },
      "source": [
        "# Code referenced from https://gist.github.com/gyglim/1f8dfb1b5c82627ae3efcfbbadb9f514\n",
        "import tensorflow as tf\n",
        "import numpy as np\n",
        "import scipy.misc \n",
        "try:\n",
        "    from StringIO import StringIO  # Python 2.7\n",
        "except ImportError:\n",
        "    from io import BytesIO         # Python 3.x\n",
        "\n",
        "\n",
        "class Logger(object):\n",
        "    \n",
        "    def __init__(self, log_dir):\n",
        "        \"\"\"Create a summary writer logging to log_dir.\"\"\"\n",
        "        self.writer = tf.summary.FileWriter(log_dir)\n",
        "\n",
        "    def scalar_summary(self, tag, value, step):\n",
        "        \"\"\"Log a scalar variable.\"\"\"\n",
        "        summary = tf.Summary(value=[tf.Summary.Value(tag=tag, simple_value=value)])\n",
        "        self.writer.add_summary(summary, step)\n",
        "\n",
        "    def image_summary(self, tag, images, step):\n",
        "        \"\"\"Log a list of images.\"\"\"\n",
        "\n",
        "        img_summaries = []\n",
        "        for i, img in enumerate(images):\n",
        "            # Write the image to a string\n",
        "            try:\n",
        "                s = StringIO()\n",
        "            except:\n",
        "                s = BytesIO()\n",
        "            scipy.misc.toimage(img).save(s, format=\"png\")\n",
        "\n",
        "            # Create an Image object\n",
        "            img_sum = tf.Summary.Image(encoded_image_string=s.getvalue(),\n",
        "                                       height=img.shape[0],\n",
        "                                       width=img.shape[1])\n",
        "            # Create a Summary value\n",
        "            img_summaries.append(tf.Summary.Value(tag='%s/%d' % (tag, i), image=img_sum))\n",
        "\n",
        "        # Create and write Summary\n",
        "        summary = tf.Summary(value=img_summaries)\n",
        "        self.writer.add_summary(summary, step)\n",
        "        \n",
        "    def histo_summary(self, tag, values, step, bins=1000):\n",
        "        \"\"\"Log a histogram of the tensor of values.\"\"\"\n",
        "\n",
        "        # Create a histogram using numpy\n",
        "        counts, bin_edges = np.histogram(values, bins=bins)\n",
        "\n",
        "        # Fill the fields of the histogram proto\n",
        "        hist = tf.HistogramProto()\n",
        "        hist.min = float(np.min(values))\n",
        "        hist.max = float(np.max(values))\n",
        "        hist.num = int(np.prod(values.shape))\n",
        "        hist.sum = float(np.sum(values))\n",
        "        hist.sum_squares = float(np.sum(values**2))\n",
        "\n",
        "        # Drop the start of the first bin\n",
        "        bin_edges = bin_edges[1:]\n",
        "\n",
        "        # Add bin edges and counts\n",
        "        for edge in bin_edges:\n",
        "            hist.bucket_limit.append(edge)\n",
        "        for c in counts:\n",
        "            hist.bucket.append(c)\n",
        "\n",
        "        # Create and write Summary\n",
        "        summary = tf.Summary(value=[tf.Summary.Value(tag=tag, histo=hist)])\n",
        "        self.writer.add_summary(summary, step)\n",
        "        self.writer.flush()\n",
        "logger = Logger('./logs')"
      ],
      "execution_count": 0,
      "outputs": []
    },
    {
      "cell_type": "code",
      "metadata": {
        "id": "UIkuagd9_X1v",
        "colab_type": "code",
        "colab": {}
      },
      "source": [
        "import torch\n",
        "import torchvision\n",
        "from torchvision import datasets, transforms"
      ],
      "execution_count": 0,
      "outputs": []
    },
    {
      "cell_type": "markdown",
      "metadata": {
        "id": "qvDAZByo_X1w",
        "colab_type": "text"
      },
      "source": [
        "##3.2.1 Loading the Dataset\n",
        "The output of torchvision datasets are PILImage images of range [0, 1].  \n",
        "We transform them to Tensors of normalized range [-1, 1].  \n",
        "```Transforms.Normalize((mean,),(std,))``` basically manipulates the values of a pixel such that  \n",
        "$$New\\_Value = \\frac{Old\\_Value - Mean}{Std}$$\n",
        "\n"
      ]
    },
    {
      "cell_type": "code",
      "metadata": {
        "id": "lK7aviwP_X1x",
        "colab_type": "code",
        "outputId": "7ec7a6bd-ef4e-4230-ebf1-6a0f258e9ae0",
        "colab": {
          "base_uri": "https://localhost:8080/",
          "height": 232
        }
      },
      "source": [
        "# Define a transform to normalize the data\n",
        "\n",
        "#TODO : Set the value of mean and the standard deviation to \n",
        "#       normalize the image from range [0,1] to the range [-1, 1]\n",
        "\n",
        "\n",
        "#Begin Your Code\n",
        "\n",
        "mean = .5\n",
        "std = .5\n",
        "\n",
        "#End Your Code\n",
        "\n",
        "transform = transforms.Compose([transforms.ToTensor(),\n",
        "                                transforms.Normalize((mean,), (std,))\n",
        "                                ])\n",
        "\n",
        "\n",
        "#TODO : Select suitable value of batch_sizes.\n",
        "\n",
        "#Begin Your Code\n",
        "\n",
        "train_batch_size = 50\n",
        "test_batch_size = 50\n",
        "\n",
        "#End Your Code\n",
        "\n",
        "# Download and load the training data\n",
        "trainset = datasets.FashionMNIST('~/.pytorch/F_MNIST_data/', download=True, train=True, transform=transform)\n",
        "trainloader = torch.utils.data.DataLoader(trainset, batch_size=train_batch_size, shuffle=True)\n",
        "\n",
        "# Download and load the test data\n",
        "testset = datasets.FashionMNIST('~/.pytorch/F_MNIST_data/', download=True, train=False, transform=transform)\n",
        "testloader = torch.utils.data.DataLoader(testset, batch_size=test_batch_size, shuffle=True)\n",
        "\n",
        "\n",
        "# Classes\n",
        "classes = {       0 :'T-shirt/top',\n",
        "                  1 :'Trouser',\n",
        "                  2 :'Pullover',\n",
        "                  3 :'Dress',\n",
        "                  4 :'Coat',\n",
        "                  5 :'Sandal',\n",
        "                  6 :'Shirt',\n",
        "                  7 :'Sneaker',\n",
        "                  8 :'Bag',\n",
        "                  9 :'Ankle boot'}"
      ],
      "execution_count": 0,
      "outputs": [
        {
          "output_type": "error",
          "ename": "AttributeError",
          "evalue": "ignored",
          "traceback": [
            "\u001b[0;31m---------------------------------------------------------------------------\u001b[0m",
            "\u001b[0;31mAttributeError\u001b[0m                            Traceback (most recent call last)",
            "\u001b[0;32m<ipython-input-12-4d7bd8091405>\u001b[0m in \u001b[0;36m<module>\u001b[0;34m()\u001b[0m\n\u001b[1;32m     25\u001b[0m \u001b[0;31m# Download and load the test data\u001b[0m\u001b[0;34m\u001b[0m\u001b[0;34m\u001b[0m\u001b[0;34m\u001b[0m\u001b[0m\n\u001b[1;32m     26\u001b[0m \u001b[0mtestset\u001b[0m \u001b[0;34m=\u001b[0m \u001b[0mdatasets\u001b[0m\u001b[0;34m.\u001b[0m\u001b[0mFashionMNIST\u001b[0m\u001b[0;34m(\u001b[0m\u001b[0;34m'~/.pytorch/F_MNIST_data/'\u001b[0m\u001b[0;34m,\u001b[0m \u001b[0mdownload\u001b[0m\u001b[0;34m=\u001b[0m\u001b[0;32mTrue\u001b[0m\u001b[0;34m,\u001b[0m \u001b[0mtrain\u001b[0m\u001b[0;34m=\u001b[0m\u001b[0;32mFalse\u001b[0m\u001b[0;34m,\u001b[0m \u001b[0mtransform\u001b[0m\u001b[0;34m=\u001b[0m\u001b[0mtransform\u001b[0m\u001b[0;34m)\u001b[0m\u001b[0;34m\u001b[0m\u001b[0;34m\u001b[0m\u001b[0m\n\u001b[0;32m---> 27\u001b[0;31m \u001b[0mprint\u001b[0m\u001b[0;34m(\u001b[0m\u001b[0mtype\u001b[0m\u001b[0;34m(\u001b[0m\u001b[0mtestset\u001b[0m\u001b[0;34m.\u001b[0m\u001b[0mdataset\u001b[0m\u001b[0;34m)\u001b[0m\u001b[0;34m,\u001b[0m \u001b[0mtestset\u001b[0m\u001b[0;34m.\u001b[0m\u001b[0mdataset\u001b[0m\u001b[0;34m.\u001b[0m\u001b[0mshape\u001b[0m\u001b[0;34m(\u001b[0m\u001b[0;34m)\u001b[0m\u001b[0;34m)\u001b[0m\u001b[0;34m\u001b[0m\u001b[0;34m\u001b[0m\u001b[0m\n\u001b[0m\u001b[1;32m     28\u001b[0m \u001b[0mtestloader\u001b[0m \u001b[0;34m=\u001b[0m \u001b[0mtorch\u001b[0m\u001b[0;34m.\u001b[0m\u001b[0mutils\u001b[0m\u001b[0;34m.\u001b[0m\u001b[0mdata\u001b[0m\u001b[0;34m.\u001b[0m\u001b[0mDataLoader\u001b[0m\u001b[0;34m(\u001b[0m\u001b[0mtestset\u001b[0m\u001b[0;34m,\u001b[0m \u001b[0mbatch_size\u001b[0m\u001b[0;34m=\u001b[0m\u001b[0mtest_batch_size\u001b[0m\u001b[0;34m,\u001b[0m \u001b[0mshuffle\u001b[0m\u001b[0;34m=\u001b[0m\u001b[0;32mTrue\u001b[0m\u001b[0;34m)\u001b[0m\u001b[0;34m\u001b[0m\u001b[0;34m\u001b[0m\u001b[0m\n\u001b[1;32m     29\u001b[0m \u001b[0;34m\u001b[0m\u001b[0m\n",
            "\u001b[0;31mAttributeError\u001b[0m: 'FashionMNIST' object has no attribute 'dataset'"
          ]
        }
      ]
    },
    {
      "cell_type": "markdown",
      "metadata": {
        "id": "SFBh6ZhO_X1y",
        "colab_type": "text"
      },
      "source": [
        "##3.2.2 The Dataset\n",
        "Here we show some images of the dataset.  \n",
        "See how many of the categories can you recognise.\n",
        "\n"
      ]
    },
    {
      "cell_type": "code",
      "metadata": {
        "id": "hX5Irrw-_X1z",
        "colab_type": "code",
        "outputId": "bc300887-677d-467b-bc2d-cc340446317f",
        "colab": {
          "base_uri": "https://localhost:8080/",
          "height": 767
        }
      },
      "source": [
        "import matplotlib.pyplot as plt\n",
        "from matplotlib.pyplot import figure\n",
        "import numpy as np\n",
        "\n",
        "# Functions to show an image\n",
        "\n",
        "\n",
        "def imshow(img):\n",
        "    img = img / 2 + 0.5     # unnormalize\n",
        "    npimg = img.numpy()\n",
        "    \n",
        "    figure(num=None, figsize=(8, 6), dpi=150, edgecolor='k')\n",
        "    plt.axis('off')\n",
        "    plt.imshow(np.transpose(npimg, (1, 2, 0)))\n",
        "\n",
        "\n",
        "# get some random training images\n",
        "dataiter = iter(trainloader)\n",
        "images, labels = dataiter.next()\n",
        "\n",
        "# show images\n",
        "imshow(torchvision.utils.make_grid(images))"
      ],
      "execution_count": 0,
      "outputs": [
        {
          "output_type": "display_data",
          "data": {
            "image/png": "[encoded data removed]",
            "text/plain": [
              "<Figure size 1200x900 with 1 Axes>"
            ]
          },
          "metadata": {
            "tags": []
          }
        }
      ]
    },
    {
      "cell_type": "markdown",
      "metadata": {
        "id": "le9N91sO_X11",
        "colab_type": "text"
      },
      "source": [
        "##3.2.3 Create your Convolutional Neural Network\n",
        "Create the CNN with layers as mentioned in the LaTeX pdf for full credit.  \n",
        "You are, however, free to change the architecture as long as you achieve accuracy better than the architecture shown in the LaTeX pdf.\n",
        "\n"
      ]
    },
    {
      "cell_type": "code",
      "metadata": {
        "id": "dWmqB-1b_X11",
        "colab_type": "code",
        "colab": {}
      },
      "source": [
        "import torch.nn as nn\n",
        "import torch.nn.functional as F\n",
        "\n",
        "\n",
        "class Net(nn.Module):\n",
        "    def __init__(self):\n",
        "        super(Net, self).__init__()\n",
        "\n",
        "        #TODO : Design your network, you are allowed to explore your own architecture\n",
        "        #       But you should achieve a better overall accuracy than the baseline network.\n",
        "        #       Also, if you do design your own network, include an explanation \n",
        "        #       for your choice of network and how it may be better than the \n",
        "        #       baseline network in your latex.\n",
        "        \n",
        "        #Begin Your Code\n",
        "        self.conv1 = nn.Conv2d(1,16,kernel_size=5, stride = 1, padding=2) #in 28x28x1 out 28x28x16\n",
        "        self.pool = nn.MaxPool2d(2)\n",
        "        self.conv2 = nn.Conv2d(16,32,kernel_size=5, stride = 1, padding=2) #in 28x28x16 out 28x28x32\n",
        "        self.dropout = nn.Dropout(0.5)\n",
        "        self.fc = nn.Linear(32*7*7, 10)\n",
        "        \n",
        "        # new_width = (old_width+2*padding-kernal_size)/stride +1\n",
        "\n",
        "    def forward(self, x):\n",
        "\n",
        "      #TODO : Implement the forward function that applies the layers you have created to the input\n",
        "\n",
        "      #Begin Your Code\n",
        "      x = self.pool(F.relu(self.conv1(x)))\n",
        "      x = self.pool(F.relu(self.conv2(x)))\n",
        "      x = x.view(-1, 32 * 7 * 7)\n",
        "      x = self.dropout(x)\n",
        "      x = self.fc(x)\n",
        "      return x\n",
        "  \n",
        "      #End Your Code\n",
        "\n",
        "\n",
        "net = Net()"
      ],
      "execution_count": 0,
      "outputs": []
    },
    {
      "cell_type": "markdown",
      "metadata": {
        "id": "jieF6xy__X13",
        "colab_type": "text"
      },
      "source": [
        "##3.2.4 Define a Loss function and optimizer\n",
        "We will be using [Cross Entropy Loss](https://pytorch.org/docs/stable/nn.html?highlight=crossentropyloss#torch.nn.CrossEntropyLoss) and [Adam optimizer](https://pytorch.org/docs/stable/optim.html?highlight=adam#torch.optim.Adam).  \n",
        "Note: PyTorch's CrossEntropyLoss combines log softmax and negative log likelihood loss in one class. Make sure you are not computing softmax twice.\n",
        "\n"
      ]
    },
    {
      "cell_type": "code",
      "metadata": {
        "id": "_5-Qn1ef_X13",
        "colab_type": "code",
        "colab": {}
      },
      "source": [
        "import torch.optim as optim\n",
        "\n",
        "#TODO : Use appropriate loss criterion and optimizer \n",
        "\n",
        "#Begin Your Code\n",
        "\n",
        "criterion = nn.CrossEntropyLoss()\n",
        "optimizer = optim.Adam(net.parameters(), lr=0.001)\n",
        "\n",
        "#End Your Code"
      ],
      "execution_count": 0,
      "outputs": []
    },
    {
      "cell_type": "markdown",
      "metadata": {
        "id": "D4za3t0b_X15",
        "colab_type": "text"
      },
      "source": [
        "##3.2.5. Train the network\n",
        "\n",
        "Here we are going to train the network while logging the per batch metrics.  \n",
        "This would take some time to run (5-10 minutes).\n",
        "\n"
      ]
    },
    {
      "cell_type": "code",
      "metadata": {
        "id": "r7y1qZI1wyvv",
        "colab_type": "code",
        "outputId": "bc9181e1-3d10-4c4a-cba4-c45455659d03",
        "colab": {
          "base_uri": "https://localhost:8080/",
          "height": 1000
        }
      },
      "source": [
        "overall_step = 0\n",
        "\n",
        "#TODO : Select appropriate number of epochs\n",
        "\n",
        "#Begin Your Code\n",
        "\n",
        "epochs = 2\n",
        "\n",
        "#End Your Code\n",
        "\n",
        "\n",
        "for epoch in range(epochs):  # loop over the dataset multiple times\n",
        "    running_loss = 0\n",
        "    for i, data in enumerate(trainloader, 0):\n",
        "        # get the inputs\n",
        "        inputs, labels = data\n",
        "\n",
        "        #TODO : Make predictions, calculate accuracy and update your weights once\n",
        "        \n",
        "        #Begin Your Code\n",
        "\n",
        "        # zero the parameter gradients\n",
        "        optimizer.zero_grad()\n",
        "\n",
        "        # forward + backward + optimize\n",
        "        print(inputs.size())\n",
        "        outputs = net(inputs)\n",
        "        loss = criterion(outputs, labels)\n",
        "        loss.backward()\n",
        "        optimizer.step()\n",
        "        #End Your Code\n",
        "\n",
        "        # print statistics\n",
        "        running_loss += loss.item()\n",
        "        if i % 200 == 199:    # print every 200 mini-batches\n",
        "            predictions = np.argmax(outputs.detach().numpy(), axis=1)\n",
        "            accuracy = accuracy_score(labels.numpy(), predictions)\n",
        "            print('Accuracy:', accuracy)\n",
        "            print('Epoch: %d, Batch: %5d, loss: %.3f' %\n",
        "                  (epoch + 1, i + 1, running_loss / 200))\n",
        "            running_loss = 0.0\n",
        "            #Any thing that is added to the \"info\" gets plotted in tensorboard\n",
        "            #TODO : Add the plots in Tensorboard to the report and explain what is happening\n",
        "            info = { ('loss') : loss.item(),('accuracy'): accuracy.item()}\n",
        "            for tag, value in info.items():\n",
        "                logger.scalar_summary(tag, value, overall_step+1)\n",
        "\n",
        "print('Finished Training')"
      ],
      "execution_count": 0,
      "outputs": [
        {
          "output_type": "stream",
          "text": [
            "torch.Size([50, 1, 28, 28])\n",
            "torch.Size([50, 1, 28, 28])\n",
            "torch.Size([50, 1, 28, 28])\n",
            "torch.Size([50, 1, 28, 28])\n",
            "torch.Size([50, 1, 28, 28])\n",
            "torch.Size([50, 1, 28, 28])\n",
            "torch.Size([50, 1, 28, 28])\n",
            "torch.Size([50, 1, 28, 28])\n",
            "torch.Size([50, 1, 28, 28])\n",
            "torch.Size([50, 1, 28, 28])\n",
            "torch.Size([50, 1, 28, 28])\n",
            "torch.Size([50, 1, 28, 28])\n",
            "torch.Size([50, 1, 28, 28])\n",
            "torch.Size([50, 1, 28, 28])\n",
            "torch.Size([50, 1, 28, 28])\n",
            "torch.Size([50, 1, 28, 28])\n",
            "torch.Size([50, 1, 28, 28])\n",
            "torch.Size([50, 1, 28, 28])\n",
            "torch.Size([50, 1, 28, 28])\n",
            "torch.Size([50, 1, 28, 28])\n",
            "torch.Size([50, 1, 28, 28])\n",
            "torch.Size([50, 1, 28, 28])\n",
            "torch.Size([50, 1, 28, 28])\n",
            "torch.Size([50, 1, 28, 28])\n",
            "torch.Size([50, 1, 28, 28])\n",
            "torch.Size([50, 1, 28, 28])\n",
            "torch.Size([50, 1, 28, 28])\n",
            "torch.Size([50, 1, 28, 28])\n",
            "torch.Size([50, 1, 28, 28])\n",
            "torch.Size([50, 1, 28, 28])\n",
            "torch.Size([50, 1, 28, 28])\n",
            "torch.Size([50, 1, 28, 28])\n",
            "torch.Size([50, 1, 28, 28])\n",
            "torch.Size([50, 1, 28, 28])\n",
            "torch.Size([50, 1, 28, 28])\n",
            "torch.Size([50, 1, 28, 28])\n",
            "torch.Size([50, 1, 28, 28])\n",
            "torch.Size([50, 1, 28, 28])\n",
            "torch.Size([50, 1, 28, 28])\n",
            "torch.Size([50, 1, 28, 28])\n",
            "torch.Size([50, 1, 28, 28])\n",
            "torch.Size([50, 1, 28, 28])\n",
            "torch.Size([50, 1, 28, 28])\n",
            "torch.Size([50, 1, 28, 28])\n",
            "torch.Size([50, 1, 28, 28])\n",
            "torch.Size([50, 1, 28, 28])\n",
            "torch.Size([50, 1, 28, 28])\n",
            "torch.Size([50, 1, 28, 28])\n",
            "torch.Size([50, 1, 28, 28])\n",
            "torch.Size([50, 1, 28, 28])\n",
            "torch.Size([50, 1, 28, 28])\n",
            "torch.Size([50, 1, 28, 28])\n",
            "torch.Size([50, 1, 28, 28])\n",
            "torch.Size([50, 1, 28, 28])\n",
            "torch.Size([50, 1, 28, 28])\n",
            "torch.Size([50, 1, 28, 28])\n",
            "torch.Size([50, 1, 28, 28])\n",
            "torch.Size([50, 1, 28, 28])\n",
            "torch.Size([50, 1, 28, 28])\n",
            "torch.Size([50, 1, 28, 28])\n",
            "torch.Size([50, 1, 28, 28])\n",
            "torch.Size([50, 1, 28, 28])\n",
            "torch.Size([50, 1, 28, 28])\n",
            "torch.Size([50, 1, 28, 28])\n",
            "torch.Size([50, 1, 28, 28])\n",
            "torch.Size([50, 1, 28, 28])\n",
            "torch.Size([50, 1, 28, 28])\n",
            "torch.Size([50, 1, 28, 28])\n",
            "torch.Size([50, 1, 28, 28])\n",
            "torch.Size([50, 1, 28, 28])\n",
            "torch.Size([50, 1, 28, 28])\n",
            "torch.Size([50, 1, 28, 28])\n",
            "torch.Size([50, 1, 28, 28])\n",
            "torch.Size([50, 1, 28, 28])\n",
            "torch.Size([50, 1, 28, 28])\n",
            "torch.Size([50, 1, 28, 28])\n",
            "torch.Size([50, 1, 28, 28])\n",
            "torch.Size([50, 1, 28, 28])\n",
            "torch.Size([50, 1, 28, 28])\n",
            "torch.Size([50, 1, 28, 28])\n",
            "torch.Size([50, 1, 28, 28])\n",
            "torch.Size([50, 1, 28, 28])\n",
            "torch.Size([50, 1, 28, 28])\n",
            "torch.Size([50, 1, 28, 28])\n",
            "torch.Size([50, 1, 28, 28])\n",
            "torch.Size([50, 1, 28, 28])\n",
            "torch.Size([50, 1, 28, 28])\n",
            "torch.Size([50, 1, 28, 28])\n",
            "torch.Size([50, 1, 28, 28])\n",
            "torch.Size([50, 1, 28, 28])\n",
            "torch.Size([50, 1, 28, 28])\n",
            "torch.Size([50, 1, 28, 28])\n",
            "torch.Size([50, 1, 28, 28])\n",
            "torch.Size([50, 1, 28, 28])\n",
            "torch.Size([50, 1, 28, 28])\n",
            "torch.Size([50, 1, 28, 28])\n",
            "torch.Size([50, 1, 28, 28])\n",
            "torch.Size([50, 1, 28, 28])\n",
            "torch.Size([50, 1, 28, 28])\n",
            "torch.Size([50, 1, 28, 28])\n",
            "torch.Size([50, 1, 28, 28])\n",
            "torch.Size([50, 1, 28, 28])\n",
            "torch.Size([50, 1, 28, 28])\n",
            "torch.Size([50, 1, 28, 28])\n",
            "torch.Size([50, 1, 28, 28])\n",
            "torch.Size([50, 1, 28, 28])\n",
            "torch.Size([50, 1, 28, 28])\n",
            "torch.Size([50, 1, 28, 28])\n",
            "torch.Size([50, 1, 28, 28])\n",
            "torch.Size([50, 1, 28, 28])\n",
            "torch.Size([50, 1, 28, 28])\n",
            "torch.Size([50, 1, 28, 28])\n",
            "torch.Size([50, 1, 28, 28])\n",
            "torch.Size([50, 1, 28, 28])\n",
            "torch.Size([50, 1, 28, 28])\n",
            "torch.Size([50, 1, 28, 28])\n",
            "torch.Size([50, 1, 28, 28])\n",
            "torch.Size([50, 1, 28, 28])\n",
            "torch.Size([50, 1, 28, 28])\n",
            "torch.Size([50, 1, 28, 28])\n",
            "torch.Size([50, 1, 28, 28])\n",
            "torch.Size([50, 1, 28, 28])\n",
            "torch.Size([50, 1, 28, 28])\n",
            "torch.Size([50, 1, 28, 28])\n",
            "torch.Size([50, 1, 28, 28])\n",
            "torch.Size([50, 1, 28, 28])\n",
            "torch.Size([50, 1, 28, 28])\n",
            "torch.Size([50, 1, 28, 28])\n",
            "torch.Size([50, 1, 28, 28])\n",
            "torch.Size([50, 1, 28, 28])\n",
            "torch.Size([50, 1, 28, 28])\n",
            "torch.Size([50, 1, 28, 28])\n",
            "torch.Size([50, 1, 28, 28])\n",
            "torch.Size([50, 1, 28, 28])\n",
            "torch.Size([50, 1, 28, 28])\n",
            "torch.Size([50, 1, 28, 28])\n",
            "torch.Size([50, 1, 28, 28])\n",
            "torch.Size([50, 1, 28, 28])\n",
            "torch.Size([50, 1, 28, 28])\n",
            "torch.Size([50, 1, 28, 28])\n",
            "torch.Size([50, 1, 28, 28])\n",
            "torch.Size([50, 1, 28, 28])\n",
            "torch.Size([50, 1, 28, 28])\n",
            "torch.Size([50, 1, 28, 28])\n",
            "torch.Size([50, 1, 28, 28])\n",
            "torch.Size([50, 1, 28, 28])\n",
            "torch.Size([50, 1, 28, 28])\n",
            "torch.Size([50, 1, 28, 28])\n",
            "torch.Size([50, 1, 28, 28])\n",
            "torch.Size([50, 1, 28, 28])\n",
            "torch.Size([50, 1, 28, 28])\n",
            "torch.Size([50, 1, 28, 28])\n",
            "torch.Size([50, 1, 28, 28])\n",
            "torch.Size([50, 1, 28, 28])\n",
            "torch.Size([50, 1, 28, 28])\n",
            "torch.Size([50, 1, 28, 28])\n",
            "torch.Size([50, 1, 28, 28])\n",
            "torch.Size([50, 1, 28, 28])\n",
            "torch.Size([50, 1, 28, 28])\n",
            "torch.Size([50, 1, 28, 28])\n",
            "torch.Size([50, 1, 28, 28])\n",
            "torch.Size([50, 1, 28, 28])\n",
            "torch.Size([50, 1, 28, 28])\n",
            "torch.Size([50, 1, 28, 28])\n",
            "torch.Size([50, 1, 28, 28])\n",
            "torch.Size([50, 1, 28, 28])\n",
            "torch.Size([50, 1, 28, 28])\n",
            "torch.Size([50, 1, 28, 28])\n",
            "torch.Size([50, 1, 28, 28])\n",
            "torch.Size([50, 1, 28, 28])\n",
            "torch.Size([50, 1, 28, 28])\n",
            "torch.Size([50, 1, 28, 28])\n",
            "torch.Size([50, 1, 28, 28])\n",
            "torch.Size([50, 1, 28, 28])\n",
            "torch.Size([50, 1, 28, 28])\n",
            "torch.Size([50, 1, 28, 28])\n",
            "torch.Size([50, 1, 28, 28])\n",
            "torch.Size([50, 1, 28, 28])\n",
            "torch.Size([50, 1, 28, 28])\n",
            "torch.Size([50, 1, 28, 28])\n",
            "torch.Size([50, 1, 28, 28])\n",
            "torch.Size([50, 1, 28, 28])\n",
            "torch.Size([50, 1, 28, 28])\n",
            "torch.Size([50, 1, 28, 28])\n",
            "torch.Size([50, 1, 28, 28])\n",
            "torch.Size([50, 1, 28, 28])\n",
            "torch.Size([50, 1, 28, 28])\n",
            "torch.Size([50, 1, 28, 28])\n",
            "torch.Size([50, 1, 28, 28])\n",
            "torch.Size([50, 1, 28, 28])\n",
            "torch.Size([50, 1, 28, 28])\n",
            "torch.Size([50, 1, 28, 28])\n",
            "torch.Size([50, 1, 28, 28])\n",
            "torch.Size([50, 1, 28, 28])\n",
            "torch.Size([50, 1, 28, 28])\n",
            "torch.Size([50, 1, 28, 28])\n",
            "torch.Size([50, 1, 28, 28])\n",
            "torch.Size([50, 1, 28, 28])\n",
            "torch.Size([50, 1, 28, 28])\n",
            "torch.Size([50, 1, 28, 28])\n",
            "Accuracy: 0.88\n",
            "Epoch: 1, Batch:   200, loss: 0.486\n"
          ],
          "name": "stdout"
        },
        {
          "output_type": "error",
          "ename": "NameError",
          "evalue": "ignored",
          "traceback": [
            "\u001b[0;31m---------------------------------------------------------------------------\u001b[0m",
            "\u001b[0;31mNameError\u001b[0m                                 Traceback (most recent call last)",
            "\u001b[0;32m<ipython-input-8-3342cc22ae17>\u001b[0m in \u001b[0;36m<module>\u001b[0;34m()\u001b[0m\n\u001b[1;32m     44\u001b[0m             \u001b[0minfo\u001b[0m \u001b[0;34m=\u001b[0m \u001b[0;34m{\u001b[0m \u001b[0;34m(\u001b[0m\u001b[0;34m'loss'\u001b[0m\u001b[0;34m)\u001b[0m \u001b[0;34m:\u001b[0m \u001b[0mloss\u001b[0m\u001b[0;34m.\u001b[0m\u001b[0mitem\u001b[0m\u001b[0;34m(\u001b[0m\u001b[0;34m)\u001b[0m\u001b[0;34m,\u001b[0m\u001b[0;34m(\u001b[0m\u001b[0;34m'accuracy'\u001b[0m\u001b[0;34m)\u001b[0m\u001b[0;34m:\u001b[0m \u001b[0maccuracy\u001b[0m\u001b[0;34m.\u001b[0m\u001b[0mitem\u001b[0m\u001b[0;34m(\u001b[0m\u001b[0;34m)\u001b[0m\u001b[0;34m}\u001b[0m\u001b[0;34m\u001b[0m\u001b[0;34m\u001b[0m\u001b[0m\n\u001b[1;32m     45\u001b[0m             \u001b[0;32mfor\u001b[0m \u001b[0mtag\u001b[0m\u001b[0;34m,\u001b[0m \u001b[0mvalue\u001b[0m \u001b[0;32min\u001b[0m \u001b[0minfo\u001b[0m\u001b[0;34m.\u001b[0m\u001b[0mitems\u001b[0m\u001b[0;34m(\u001b[0m\u001b[0;34m)\u001b[0m\u001b[0;34m:\u001b[0m\u001b[0;34m\u001b[0m\u001b[0;34m\u001b[0m\u001b[0m\n\u001b[0;32m---> 46\u001b[0;31m                 \u001b[0mlogger\u001b[0m\u001b[0;34m.\u001b[0m\u001b[0mscalar_summary\u001b[0m\u001b[0;34m(\u001b[0m\u001b[0mtag\u001b[0m\u001b[0;34m,\u001b[0m \u001b[0mvalue\u001b[0m\u001b[0;34m,\u001b[0m \u001b[0moverall_step\u001b[0m\u001b[0;34m+\u001b[0m\u001b[0;36m1\u001b[0m\u001b[0;34m)\u001b[0m\u001b[0;34m\u001b[0m\u001b[0;34m\u001b[0m\u001b[0m\n\u001b[0m\u001b[1;32m     47\u001b[0m \u001b[0;34m\u001b[0m\u001b[0m\n\u001b[1;32m     48\u001b[0m \u001b[0mprint\u001b[0m\u001b[0;34m(\u001b[0m\u001b[0;34m'Finished Training'\u001b[0m\u001b[0;34m)\u001b[0m\u001b[0;34m\u001b[0m\u001b[0;34m\u001b[0m\u001b[0m\n",
            "\u001b[0;31mNameError\u001b[0m: name 'logger' is not defined"
          ]
        }
      ]
    },
    {
      "cell_type": "markdown",
      "metadata": {
        "id": "RREjngOC_X2F",
        "colab_type": "text"
      },
      "source": [
        "##3.2.6 Test Accuracy\n",
        "Let us look at how the network performs on the test dataset.  \n",
        "Report your accuracy in your report.\n",
        "\n"
      ]
    },
    {
      "cell_type": "code",
      "metadata": {
        "id": "QTyWZj2R_X2F",
        "colab_type": "code",
        "outputId": "dc36a304-0e36-49e5-c9e9-81d51ad30ecf",
        "colab": {
          "base_uri": "https://localhost:8080/",
          "height": 34
        }
      },
      "source": [
        "correct = 0\n",
        "total = 0\n",
        "with torch.no_grad():\n",
        "    for data in testloader:\n",
        "        images, labels = data\n",
        "        outputs = net(images)\n",
        "        _, predicted = torch.max(outputs.data, 1)\n",
        "        total += labels.size(0)\n",
        "        correct += (predicted == labels).sum().item()\n",
        "\n",
        "#TODO : Report this accuracy in your report.\n",
        "\n",
        "print('Accuracy of the network on the 10000 test images: %d %%' % (\n",
        "    100 * correct / total))"
      ],
      "execution_count": 0,
      "outputs": [
        {
          "output_type": "stream",
          "text": [
            "Accuracy of the network on the 10000 test images: 88 %\n"
          ],
          "name": "stdout"
        }
      ]
    },
    {
      "cell_type": "markdown",
      "metadata": {
        "id": "FCCVNEjV_X2G",
        "colab_type": "text"
      },
      "source": [
        "##3.2.7 Per Class accuracy\n",
        "Now we see the test accuracy for each class in the test dataset.  \n",
        "Report these accuracies in your report. Also identify the problematic classes.  \n",
        "Can you explain why these classes have significantly lower accuracies compared to other classes? Record your responses in your LaTeX file.\n"
      ]
    },
    {
      "cell_type": "code",
      "metadata": {
        "id": "CO9h7Zbd_X2H",
        "colab_type": "code",
        "outputId": "9ac28b88-b480-4d1f-86f4-4d15f315cb78",
        "colab": {
          "base_uri": "https://localhost:8080/",
          "height": 187
        }
      },
      "source": [
        "class_correct = list(0. for i in range(10))\n",
        "class_total = list(0. for i in range(10))\n",
        "with torch.no_grad():\n",
        "    for data in testloader:\n",
        "        images, labels = data\n",
        "        outputs = net(images)\n",
        "        _, predicted = torch.max(outputs, 1)\n",
        "        c = (predicted == labels).squeeze()\n",
        "        for i in range(4):\n",
        "            label = labels[i]\n",
        "            class_correct[label] += c[i].item()\n",
        "            class_total[label] += 1\n",
        "\n",
        "\n",
        "for i in range(10):\n",
        "    print('Accuracy of %5s : %2d %%' % (\n",
        "        classes[i], 100 * class_correct[i] / class_total[i]))"
      ],
      "execution_count": 0,
      "outputs": [
        {
          "output_type": "stream",
          "text": [
            "Accuracy of T-shirt/top : 80 %\n",
            "Accuracy of Trouser : 93 %\n",
            "Accuracy of Pullover : 80 %\n",
            "Accuracy of Dress : 91 %\n",
            "Accuracy of  Coat : 92 %\n",
            "Accuracy of Sandal : 97 %\n",
            "Accuracy of Shirt : 66 %\n",
            "Accuracy of Sneaker : 92 %\n",
            "Accuracy of   Bag : 97 %\n",
            "Accuracy of Ankle boot : 97 %\n"
          ],
          "name": "stdout"
        }
      ]
    }
  ]
}