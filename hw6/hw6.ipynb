{
  "nbformat": 4,
  "nbformat_minor": 0,
  "metadata": {
    "kernelspec": {
      "display_name": "Python 3",
      "language": "python",
      "name": "python3"
    },
    "language_info": {
      "codemirror_mode": {
        "name": "ipython",
        "version": 3
      },
      "file_extension": ".py",
      "mimetype": "text/x-python",
      "name": "python",
      "nbconvert_exporter": "python",
      "pygments_lexer": "ipython3",
      "version": "3.5.1+"
    },
    "colab": {
      "name": "hw6.ipynb",
      "provenance": [],
      "collapsed_sections": []
    }
  },
  "cells": [
    {
      "cell_type": "markdown",
      "metadata": {
        "id": "lkAFpdl73Ccg",
        "colab_type": "text"
      },
      "source": [
        "# Homework 6: Coding\n",
        "\n",
        "**Due Monday November 4th, 11:59pm.**\n",
        "\n",
        "**This is an individual assignment.**\n",
        "\n",
        "**Submit hw6.py file to Gradescope (note there is no autograder for this assignment).**"
      ]
    },
    {
      "cell_type": "code",
      "metadata": {
        "id": "ERUagKRggAIQ",
        "colab_type": "code",
        "colab": {}
      },
      "source": [
        "\"\"\"\n",
        "Import libraries that you might require.\n",
        "\"\"\"\n",
        "import numpy as np\n",
        "from numpy import linalg as LA\n",
        "import matplotlib.pyplot as plt\n",
        "from scipy.spatial import distance\n",
        "import random\n",
        "from sklearn.datasets import load_breast_cancer\n",
        "from sklearn.linear_model import LinearRegression, LogisticRegression\n",
        "%matplotlib inline"
      ],
      "execution_count": 0,
      "outputs": []
    },
    {
      "cell_type": "markdown",
      "metadata": {
        "id": "GlgM0Bwtt5rQ",
        "colab_type": "text"
      },
      "source": [
        "# **Data Imputation**"
      ]
    },
    {
      "cell_type": "markdown",
      "metadata": {
        "id": "sQvGLh_PgIe3",
        "colab_type": "text"
      },
      "source": [
        "## Importing the Data\n",
        "Here we import the data and randomly set some values to np.NaN.  \n",
        "You would have to replace these NaNs in later code.  \n",
        "Remember to use test set to get your accuracies and do not overwrite the train sets or the miss sets.  \n",
        "You would be copying to a new numpy array each time and then impute it."
      ]
    },
    {
      "cell_type": "code",
      "metadata": {
        "id": "OS1RfeY7rvfi",
        "colab_type": "code",
        "colab": {}
      },
      "source": [
        "breast = load_breast_cancer()\n",
        "\n",
        "X = breast['data']\n",
        "y = breast['target']\n",
        "\n",
        "np.random.seed(100)\n",
        "p = np.random.permutation(len(X))\n",
        "X, y = X[p], y[p]\n",
        "\n",
        "X_train, y_train = X[:300], y[:300]\n",
        "X_test, y_test = X[300:], y[300:]\n",
        "\n",
        "\n",
        "def imputeData(X, y):\n",
        "  random.seed(42)\n",
        "  X_miss, y_miss = X.copy(), y.copy()\n",
        "  for i in range(5000):\n",
        "    sampleId = random.randint(0, X.shape[0] - 1)\n",
        "    featureId = random.randint(0, X.shape[1] - 1)\n",
        "    X_miss[sampleId][featureId] = np.NaN\n",
        "  return X_miss, y_miss\n",
        "\n",
        "\n",
        "X_miss, y_miss = imputeData(X_train, y_train)"
      ],
      "execution_count": 0,
      "outputs": []
    },
    {
      "cell_type": "markdown",
      "metadata": {
        "id": "5g2m1YoFguOQ",
        "colab_type": "text"
      },
      "source": [
        "## 3.1 Zero Imputation  \n",
        "Complete the `zeroImpute` method which takes in the data with missing value and replaces the missing values with zeroes.  \n",
        "Then train a logistic classifier on this imputed data.\n",
        "Report the accuracy on test set (`X_test`) and Frobenius norm of difference between the imputed data (`X_Zero`) and the original data without missing values (`X_train`)."
      ]
    },
    {
      "cell_type": "code",
      "metadata": {
        "id": "hudpTnV5sNAs",
        "colab_type": "code",
        "outputId": "d0744ac4-a7bd-465c-de1d-3e22ead92c2a",
        "colab": {
          "base_uri": "https://localhost:8080/",
          "height": 105
        }
      },
      "source": [
        "def zeroImpute(X_miss):\n",
        "  '''\n",
        "  Returns :\n",
        "    X_imputed which has zeroes instead of missing values and same shape as X_miss.\n",
        "  '''\n",
        "  X_imputed = X_miss.copy()\n",
        "  \n",
        "  np.nan_to_num(X_imputed,copy=False)\n",
        "\n",
        "  assert X_imputed.shape == X_miss.shape\n",
        "  \n",
        "  return X_imputed\n",
        "\n",
        "\n",
        "X_zero = zeroImpute(X_miss)\n",
        "print('Frobenius norm for zero imputation is {0}'.format(LA.norm(X_zero - X_train)))\n",
        "\n",
        "clf = LogisticRegression()\n",
        "clf.fit(X_zero,y_miss)\n",
        "\n",
        "print('Accuracy for zero imputation is {0}%'.format(clf.score(X_test, y_test)*100))"
      ],
      "execution_count": 0,
      "outputs": [
        {
          "output_type": "stream",
          "text": [
            "Frobenius norm for zero imputation is 15925.766288536064\n",
            "Accuracy for zero imputation is 56.50557620817844%\n"
          ],
          "name": "stdout"
        },
        {
          "output_type": "stream",
          "text": [
            "/usr/local/lib/python3.6/dist-packages/sklearn/linear_model/logistic.py:432: FutureWarning: Default solver will be changed to 'lbfgs' in 0.22. Specify a solver to silence this warning.\n",
            "  FutureWarning)\n"
          ],
          "name": "stderr"
        }
      ]
    },
    {
      "cell_type": "markdown",
      "metadata": {
        "id": "dt-9-TB0gvIt",
        "colab_type": "text"
      },
      "source": [
        "## 3.2 Mean Imputation  \n",
        "Complete the `meanImpute` method which takes in the data with missing value and replaces the missing values with mean for that column (ignoring the NaNs).  \n",
        "Then train a logistic classifier on this imputed data.\n",
        "Report the accuracy on test set (`X_test`) and Frobenius norm of difference between the imputed data (`X_mean`) and the original data without missing values (`X_train`)."
      ]
    },
    {
      "cell_type": "code",
      "metadata": {
        "id": "xiXJqDr3Mn8_",
        "colab_type": "code",
        "colab": {}
      },
      "source": [
        "def meanImpute(X_miss):\n",
        "  '''\n",
        "  Returns :\n",
        "    X_imputed which has mean of the corresponding column instead of the missing values and same shape as X_miss.\n",
        "  '''\n",
        "  X_imputed = X_miss.copy()\n",
        "  \n",
        "  X_imputed = np.apply_along_axis(lambda x: np.nan_to_num(x, nan=np.nanmean(x)), 0, X_imputed)\n",
        "\n",
        "  assert X_imputed.shape == X_miss.shape\n",
        "\n",
        "  return X_imputed"
      ],
      "execution_count": 0,
      "outputs": []
    },
    {
      "cell_type": "code",
      "metadata": {
        "id": "fFs_M0cdvJOl",
        "colab_type": "code",
        "outputId": "b17a1cb7-976e-4de4-b6c0-6b16e3af68e3",
        "colab": {
          "base_uri": "https://localhost:8080/",
          "height": 105
        }
      },
      "source": [
        "X_mean = meanImpute(X_miss)\n",
        "print('Frobenius norm for mean imputation is {0}'.format(LA.norm(X_mean - X_train)))\n",
        "\n",
        "clf = LogisticRegression()\n",
        "clf.fit(X_mean,y_miss)\n",
        "\n",
        "print('Accuracy for mean imputation is {0}%'.format(clf.score(X_test, y_test)*100))"
      ],
      "execution_count": 0,
      "outputs": [
        {
          "output_type": "stream",
          "text": [
            "Frobenius norm for mean imputation is 8851.631626598086\n",
            "Accuracy for mean imputation is 90.70631970260223%\n"
          ],
          "name": "stdout"
        },
        {
          "output_type": "stream",
          "text": [
            "/usr/local/lib/python3.6/dist-packages/sklearn/linear_model/logistic.py:432: FutureWarning: Default solver will be changed to 'lbfgs' in 0.22. Specify a solver to silence this warning.\n",
            "  FutureWarning)\n"
          ],
          "name": "stderr"
        }
      ]
    },
    {
      "cell_type": "markdown",
      "metadata": {
        "id": "II5CJJYrgvzL",
        "colab_type": "text"
      },
      "source": [
        "## 3.3 Regression Imputation  \n",
        "Complete the `regressedImpute` method which takes in the data with missing value and replaces the missing values with values predicted by a linear classifier trained on rows which do not have missing data for the given column to predict the values of given column.  \n",
        "It does this by iterating through a columns and replacing the missing data (in a copy) with a different model for each feature.   \n",
        "\n",
        "The method should also train a logistic classifer during the run and store the its accuracy on test set (`X_test`) and the Frobenius norm of difference between the imputed data (`X_imputed`) and the original data without missing values (`X_train`).  \n",
        "  \n",
        "\n",
        "Finally train a logistic classifier on the completely imputed data.\n",
        "Report the accuracy on test set (`X_test`) and Frobenius norm of difference between the imputed data (`X_regressed`) and the original data without missing values (`X_train`).  \n",
        "\n",
        "Repeat the process again with the imputed data to impute it a second time and observe the differences."
      ]
    },
    {
      "cell_type": "code",
      "metadata": {
        "id": "6jbK3C0JMoYS",
        "colab_type": "code",
        "outputId": "541b00da-6695-4d0f-83a8-0c519d36750b",
        "colab": {
          "base_uri": "https://localhost:8080/",
          "height": 1000
        }
      },
      "source": [
        "def regressedImpute(X_baseImputed, X_miss, X_test, y_test, computePerFeatureStatistics = False):\n",
        "  '''\n",
        "  Returns :\n",
        "    X_imputed which has mean of the linearly regressed value instead of the missing values and same shape as X_miss.\n",
        "  if computePerFeatureStatistics is True, also:\n",
        "    list of Frobenius norms of difference between reconstructions and original data (without missing values) calculated after each imputing each column.\n",
        "    list of accuracies on test set of Logistic Regression classifier trained on imputed data after each imputing each column.\n",
        "  '''\n",
        "  X_imputed = X_baseImputed.copy()\n",
        "  frobenius_norms =[]\n",
        "  accuracies =[]\n",
        "  # TODO 3.3.1 \n",
        "  # We do a linear regression based imputation here, for each column, train a classifier to predict its value based on values of other features and\n",
        "  # replace the NaN with the predicted values. \n",
        "  # IMPORTANT : You should not use regressed values from an earlier column to predict a later column, make sure to train the regression model on base imputed\n",
        "  #             and not modify base imputed during the run.\n",
        "  #             You can use X_miss to find which values were originally NaNs.\n",
        "  for feature_index in range(X_baseImputed.shape[1]):\n",
        "      nan_indices = np.isnan(X_miss[:,feature_index])\n",
        "      feature_train_x = np.delete(X_baseImputed, feature_index, axis=1)\n",
        "      feature_train_y = X_baseImputed[:,feature_index]\n",
        "      feature_model = LinearRegression()\n",
        "      feature_model.fit(feature_train_x, feature_train_y)\n",
        "      feature_prediction = feature_model.predict(feature_train_x)\n",
        "      X_imputed[nan_indices ,feature_index] = feature_prediction[nan_indices]\n",
        "\n",
        "      if computePerFeatureStatistics == True:\n",
        "          model = LogisticRegression()\n",
        "          model.fit(X_imputed,y_miss)\n",
        "          accuracies.append(model.score(X_test,y_test))\n",
        "          frobenius_norms.append(LA.norm(X_train - X_imputed))\n",
        "\n",
        "  if computePerFeatureStatistics == True:\n",
        "    return X_imputed, frobenius_norms, accuracies\n",
        "  else:\n",
        "    return X_imputed\n",
        "\n",
        "X_regressed = zeroImpute(X_miss)\n",
        "X_regressed, norms, accuracies = regressedImpute(X_regressed, X_miss, X_test, y_test, True)\n",
        "plt.plot(accuracies)\n",
        "plt.title(\"Accuracy for Regression based imputation vs. #Features\")\n",
        "plt.ylabel('Accuracy')\n",
        "plt.xlabel('Number of features imputed')\n",
        "plt.show()\n",
        "plt.plot(norms)\n",
        "plt.title(\"Norm for Regression based imputation vs. #Features\")\n",
        "plt.ylabel('Norm')\n",
        "plt.xlabel('Number of features imputed')\n",
        "plt.show()"
      ],
      "execution_count": 0,
      "outputs": [
        {
          "output_type": "stream",
          "text": [
            "/usr/local/lib/python3.6/dist-packages/sklearn/linear_model/logistic.py:432: FutureWarning: Default solver will be changed to 'lbfgs' in 0.22. Specify a solver to silence this warning.\n",
            "  FutureWarning)\n",
            "/usr/local/lib/python3.6/dist-packages/sklearn/linear_model/logistic.py:432: FutureWarning: Default solver will be changed to 'lbfgs' in 0.22. Specify a solver to silence this warning.\n",
            "  FutureWarning)\n",
            "/usr/local/lib/python3.6/dist-packages/sklearn/linear_model/logistic.py:432: FutureWarning: Default solver will be changed to 'lbfgs' in 0.22. Specify a solver to silence this warning.\n",
            "  FutureWarning)\n",
            "/usr/local/lib/python3.6/dist-packages/sklearn/linear_model/logistic.py:432: FutureWarning: Default solver will be changed to 'lbfgs' in 0.22. Specify a solver to silence this warning.\n",
            "  FutureWarning)\n",
            "/usr/local/lib/python3.6/dist-packages/sklearn/linear_model/logistic.py:432: FutureWarning: Default solver will be changed to 'lbfgs' in 0.22. Specify a solver to silence this warning.\n",
            "  FutureWarning)\n",
            "/usr/local/lib/python3.6/dist-packages/sklearn/linear_model/logistic.py:432: FutureWarning: Default solver will be changed to 'lbfgs' in 0.22. Specify a solver to silence this warning.\n",
            "  FutureWarning)\n",
            "/usr/local/lib/python3.6/dist-packages/sklearn/linear_model/logistic.py:432: FutureWarning: Default solver will be changed to 'lbfgs' in 0.22. Specify a solver to silence this warning.\n",
            "  FutureWarning)\n",
            "/usr/local/lib/python3.6/dist-packages/sklearn/linear_model/logistic.py:432: FutureWarning: Default solver will be changed to 'lbfgs' in 0.22. Specify a solver to silence this warning.\n",
            "  FutureWarning)\n",
            "/usr/local/lib/python3.6/dist-packages/sklearn/linear_model/logistic.py:432: FutureWarning: Default solver will be changed to 'lbfgs' in 0.22. Specify a solver to silence this warning.\n",
            "  FutureWarning)\n",
            "/usr/local/lib/python3.6/dist-packages/sklearn/linear_model/logistic.py:432: FutureWarning: Default solver will be changed to 'lbfgs' in 0.22. Specify a solver to silence this warning.\n",
            "  FutureWarning)\n",
            "/usr/local/lib/python3.6/dist-packages/sklearn/linear_model/logistic.py:432: FutureWarning: Default solver will be changed to 'lbfgs' in 0.22. Specify a solver to silence this warning.\n",
            "  FutureWarning)\n",
            "/usr/local/lib/python3.6/dist-packages/sklearn/linear_model/logistic.py:432: FutureWarning: Default solver will be changed to 'lbfgs' in 0.22. Specify a solver to silence this warning.\n",
            "  FutureWarning)\n",
            "/usr/local/lib/python3.6/dist-packages/sklearn/linear_model/logistic.py:432: FutureWarning: Default solver will be changed to 'lbfgs' in 0.22. Specify a solver to silence this warning.\n",
            "  FutureWarning)\n",
            "/usr/local/lib/python3.6/dist-packages/sklearn/linear_model/logistic.py:432: FutureWarning: Default solver will be changed to 'lbfgs' in 0.22. Specify a solver to silence this warning.\n",
            "  FutureWarning)\n",
            "/usr/local/lib/python3.6/dist-packages/sklearn/linear_model/logistic.py:432: FutureWarning: Default solver will be changed to 'lbfgs' in 0.22. Specify a solver to silence this warning.\n",
            "  FutureWarning)\n",
            "/usr/local/lib/python3.6/dist-packages/sklearn/linear_model/logistic.py:432: FutureWarning: Default solver will be changed to 'lbfgs' in 0.22. Specify a solver to silence this warning.\n",
            "  FutureWarning)\n",
            "/usr/local/lib/python3.6/dist-packages/sklearn/linear_model/logistic.py:432: FutureWarning: Default solver will be changed to 'lbfgs' in 0.22. Specify a solver to silence this warning.\n",
            "  FutureWarning)\n",
            "/usr/local/lib/python3.6/dist-packages/sklearn/linear_model/logistic.py:432: FutureWarning: Default solver will be changed to 'lbfgs' in 0.22. Specify a solver to silence this warning.\n",
            "  FutureWarning)\n",
            "/usr/local/lib/python3.6/dist-packages/sklearn/linear_model/logistic.py:432: FutureWarning: Default solver will be changed to 'lbfgs' in 0.22. Specify a solver to silence this warning.\n",
            "  FutureWarning)\n",
            "/usr/local/lib/python3.6/dist-packages/sklearn/linear_model/logistic.py:432: FutureWarning: Default solver will be changed to 'lbfgs' in 0.22. Specify a solver to silence this warning.\n",
            "  FutureWarning)\n",
            "/usr/local/lib/python3.6/dist-packages/sklearn/linear_model/logistic.py:432: FutureWarning: Default solver will be changed to 'lbfgs' in 0.22. Specify a solver to silence this warning.\n",
            "  FutureWarning)\n",
            "/usr/local/lib/python3.6/dist-packages/sklearn/linear_model/logistic.py:432: FutureWarning: Default solver will be changed to 'lbfgs' in 0.22. Specify a solver to silence this warning.\n",
            "  FutureWarning)\n",
            "/usr/local/lib/python3.6/dist-packages/sklearn/linear_model/logistic.py:432: FutureWarning: Default solver will be changed to 'lbfgs' in 0.22. Specify a solver to silence this warning.\n",
            "  FutureWarning)\n",
            "/usr/local/lib/python3.6/dist-packages/sklearn/linear_model/logistic.py:432: FutureWarning: Default solver will be changed to 'lbfgs' in 0.22. Specify a solver to silence this warning.\n",
            "  FutureWarning)\n",
            "/usr/local/lib/python3.6/dist-packages/sklearn/linear_model/logistic.py:432: FutureWarning: Default solver will be changed to 'lbfgs' in 0.22. Specify a solver to silence this warning.\n",
            "  FutureWarning)\n",
            "/usr/local/lib/python3.6/dist-packages/sklearn/linear_model/logistic.py:432: FutureWarning: Default solver will be changed to 'lbfgs' in 0.22. Specify a solver to silence this warning.\n",
            "  FutureWarning)\n",
            "/usr/local/lib/python3.6/dist-packages/sklearn/linear_model/logistic.py:432: FutureWarning: Default solver will be changed to 'lbfgs' in 0.22. Specify a solver to silence this warning.\n",
            "  FutureWarning)\n",
            "/usr/local/lib/python3.6/dist-packages/sklearn/linear_model/logistic.py:432: FutureWarning: Default solver will be changed to 'lbfgs' in 0.22. Specify a solver to silence this warning.\n",
            "  FutureWarning)\n",
            "/usr/local/lib/python3.6/dist-packages/sklearn/linear_model/logistic.py:432: FutureWarning: Default solver will be changed to 'lbfgs' in 0.22. Specify a solver to silence this warning.\n",
            "  FutureWarning)\n",
            "/usr/local/lib/python3.6/dist-packages/sklearn/linear_model/logistic.py:432: FutureWarning: Default solver will be changed to 'lbfgs' in 0.22. Specify a solver to silence this warning.\n",
            "  FutureWarning)\n"
          ],
          "name": "stderr"
        },
        {
          "output_type": "display_data",
          "data": {
            "image/png": "[encoded data removed]",
            "text/plain": [
              "<Figure size 432x288 with 1 Axes>"
            ]
          },
          "metadata": {
            "tags": []
          }
        },
        {
          "output_type": "display_data",
          "data": {
            "image/png": "[encoded data removed]",
            "text/plain": [
              "<Figure size 432x288 with 1 Axes>"
            ]
          },
          "metadata": {
            "tags": []
          }
        }
      ]
    },
    {
      "cell_type": "code",
      "metadata": {
        "id": "hz3OWJ3yD6wz",
        "colab_type": "code",
        "outputId": "df682056-6197-492e-d48d-74fa72379928",
        "colab": {
          "base_uri": "https://localhost:8080/",
          "height": 1000
        }
      },
      "source": [
        "epochs = 5\n",
        "norms =[]\n",
        "accuracies = []\n",
        "\n",
        "# TODO 3.3.3  : write code to impute dataset with zeros initially, then train a logistic regression classifier and \n",
        "#   store the norm of difference between the imputed data and the original data without missing values and the accuracy \n",
        "#   of the classifier on the test set in appropriate variables.\n",
        "X_zero = zeroImpute(X_miss)\n",
        "\n",
        "clf = LogisticRegression()\n",
        "clf.fit(X_zero,y_miss)\n",
        "accuracy = clf.score(X_test, y_test)\n",
        "norm = LA.norm(X_zero - X_train)\n",
        "norms.append(norm)\n",
        "accuracies.append(accuracy)\n",
        "print('Frobenius norm and accuracy for regression based imputation after base imputation are {0} and {1}%'.format(norm,accuracy))\n",
        "\n",
        "\n",
        "# Here we show how repeated imputation using regression affect our dataset. For each epoch re-impute the data from previous\n",
        "# epoch.\n",
        "X_imputed = X_zero\n",
        "for i in range(epochs):\n",
        "  # TODO 3.3.4 : Same as 3.3.3 but this time impute the data with the regression method you completed.\n",
        "  X_imputed, frobenius_norms, col_accuracies = regressedImpute(X_imputed, X_miss, X_test, y_test, computePerFeatureStatistics = True)\n",
        "  norms.append(frobenius_norms[-1])\n",
        "  accuracies.append(col_accuracies[-1])\n",
        "  print('Frobenius norm and accuracy for regression based imputation for step number {0} are {1} and {2}%'.format(i + 1, frobenius_norms[-1],col_accuracies[-1]))\n",
        "  \n",
        "plt.plot(accuracies)\n",
        "plt.title(\"Accuracy for Regression based imputation vs. #Epoch\")\n",
        "plt.ylabel('Accuracy')\n",
        "plt.xlabel('Number of Epochs')\n",
        "plt.show()\n",
        "plt.plot(norms)\n",
        "plt.title(\"Norm for Regression based imputation vs. #Epoch\")\n",
        "plt.ylabel('Norm')\n",
        "plt.xlabel('Number of Epochs')\n",
        "plt.show()"
      ],
      "execution_count": 0,
      "outputs": [
        {
          "output_type": "stream",
          "text": [
            "/usr/local/lib/python3.6/dist-packages/sklearn/linear_model/logistic.py:432: FutureWarning: Default solver will be changed to 'lbfgs' in 0.22. Specify a solver to silence this warning.\n",
            "  FutureWarning)\n",
            "/usr/local/lib/python3.6/dist-packages/sklearn/linear_model/logistic.py:432: FutureWarning: Default solver will be changed to 'lbfgs' in 0.22. Specify a solver to silence this warning.\n",
            "  FutureWarning)\n",
            "/usr/local/lib/python3.6/dist-packages/sklearn/linear_model/logistic.py:432: FutureWarning: Default solver will be changed to 'lbfgs' in 0.22. Specify a solver to silence this warning.\n",
            "  FutureWarning)\n",
            "/usr/local/lib/python3.6/dist-packages/sklearn/linear_model/logistic.py:432: FutureWarning: Default solver will be changed to 'lbfgs' in 0.22. Specify a solver to silence this warning.\n",
            "  FutureWarning)\n",
            "/usr/local/lib/python3.6/dist-packages/sklearn/linear_model/logistic.py:432: FutureWarning: Default solver will be changed to 'lbfgs' in 0.22. Specify a solver to silence this warning.\n",
            "  FutureWarning)\n",
            "/usr/local/lib/python3.6/dist-packages/sklearn/linear_model/logistic.py:432: FutureWarning: Default solver will be changed to 'lbfgs' in 0.22. Specify a solver to silence this warning.\n",
            "  FutureWarning)\n",
            "/usr/local/lib/python3.6/dist-packages/sklearn/linear_model/logistic.py:432: FutureWarning: Default solver will be changed to 'lbfgs' in 0.22. Specify a solver to silence this warning.\n",
            "  FutureWarning)\n",
            "/usr/local/lib/python3.6/dist-packages/sklearn/linear_model/logistic.py:432: FutureWarning: Default solver will be changed to 'lbfgs' in 0.22. Specify a solver to silence this warning.\n",
            "  FutureWarning)\n",
            "/usr/local/lib/python3.6/dist-packages/sklearn/linear_model/logistic.py:432: FutureWarning: Default solver will be changed to 'lbfgs' in 0.22. Specify a solver to silence this warning.\n",
            "  FutureWarning)\n",
            "/usr/local/lib/python3.6/dist-packages/sklearn/linear_model/logistic.py:432: FutureWarning: Default solver will be changed to 'lbfgs' in 0.22. Specify a solver to silence this warning.\n",
            "  FutureWarning)\n",
            "/usr/local/lib/python3.6/dist-packages/sklearn/linear_model/logistic.py:432: FutureWarning: Default solver will be changed to 'lbfgs' in 0.22. Specify a solver to silence this warning.\n",
            "  FutureWarning)\n",
            "/usr/local/lib/python3.6/dist-packages/sklearn/linear_model/logistic.py:432: FutureWarning: Default solver will be changed to 'lbfgs' in 0.22. Specify a solver to silence this warning.\n",
            "  FutureWarning)\n",
            "/usr/local/lib/python3.6/dist-packages/sklearn/linear_model/logistic.py:432: FutureWarning: Default solver will be changed to 'lbfgs' in 0.22. Specify a solver to silence this warning.\n",
            "  FutureWarning)\n",
            "/usr/local/lib/python3.6/dist-packages/sklearn/linear_model/logistic.py:432: FutureWarning: Default solver will be changed to 'lbfgs' in 0.22. Specify a solver to silence this warning.\n",
            "  FutureWarning)\n",
            "/usr/local/lib/python3.6/dist-packages/sklearn/linear_model/logistic.py:432: FutureWarning: Default solver will be changed to 'lbfgs' in 0.22. Specify a solver to silence this warning.\n",
            "  FutureWarning)\n",
            "/usr/local/lib/python3.6/dist-packages/sklearn/linear_model/logistic.py:432: FutureWarning: Default solver will be changed to 'lbfgs' in 0.22. Specify a solver to silence this warning.\n",
            "  FutureWarning)\n",
            "/usr/local/lib/python3.6/dist-packages/sklearn/linear_model/logistic.py:432: FutureWarning: Default solver will be changed to 'lbfgs' in 0.22. Specify a solver to silence this warning.\n",
            "  FutureWarning)\n"
          ],
          "name": "stderr"
        },
        {
          "output_type": "stream",
          "text": [
            "Frobenius norm and accuracy for regression based imputation after base imputation are 15925.766288536064 and 0.5650557620817844%\n"
          ],
          "name": "stdout"
        },
        {
          "output_type": "stream",
          "text": [
            "/usr/local/lib/python3.6/dist-packages/sklearn/linear_model/logistic.py:432: FutureWarning: Default solver will be changed to 'lbfgs' in 0.22. Specify a solver to silence this warning.\n",
            "  FutureWarning)\n",
            "/usr/local/lib/python3.6/dist-packages/sklearn/linear_model/logistic.py:432: FutureWarning: Default solver will be changed to 'lbfgs' in 0.22. Specify a solver to silence this warning.\n",
            "  FutureWarning)\n",
            "/usr/local/lib/python3.6/dist-packages/sklearn/linear_model/logistic.py:432: FutureWarning: Default solver will be changed to 'lbfgs' in 0.22. Specify a solver to silence this warning.\n",
            "  FutureWarning)\n",
            "/usr/local/lib/python3.6/dist-packages/sklearn/linear_model/logistic.py:432: FutureWarning: Default solver will be changed to 'lbfgs' in 0.22. Specify a solver to silence this warning.\n",
            "  FutureWarning)\n",
            "/usr/local/lib/python3.6/dist-packages/sklearn/linear_model/logistic.py:432: FutureWarning: Default solver will be changed to 'lbfgs' in 0.22. Specify a solver to silence this warning.\n",
            "  FutureWarning)\n",
            "/usr/local/lib/python3.6/dist-packages/sklearn/linear_model/logistic.py:432: FutureWarning: Default solver will be changed to 'lbfgs' in 0.22. Specify a solver to silence this warning.\n",
            "  FutureWarning)\n",
            "/usr/local/lib/python3.6/dist-packages/sklearn/linear_model/logistic.py:432: FutureWarning: Default solver will be changed to 'lbfgs' in 0.22. Specify a solver to silence this warning.\n",
            "  FutureWarning)\n",
            "/usr/local/lib/python3.6/dist-packages/sklearn/linear_model/logistic.py:432: FutureWarning: Default solver will be changed to 'lbfgs' in 0.22. Specify a solver to silence this warning.\n",
            "  FutureWarning)\n",
            "/usr/local/lib/python3.6/dist-packages/sklearn/linear_model/logistic.py:432: FutureWarning: Default solver will be changed to 'lbfgs' in 0.22. Specify a solver to silence this warning.\n",
            "  FutureWarning)\n",
            "/usr/local/lib/python3.6/dist-packages/sklearn/linear_model/logistic.py:432: FutureWarning: Default solver will be changed to 'lbfgs' in 0.22. Specify a solver to silence this warning.\n",
            "  FutureWarning)\n",
            "/usr/local/lib/python3.6/dist-packages/sklearn/linear_model/logistic.py:432: FutureWarning: Default solver will be changed to 'lbfgs' in 0.22. Specify a solver to silence this warning.\n",
            "  FutureWarning)\n",
            "/usr/local/lib/python3.6/dist-packages/sklearn/linear_model/logistic.py:432: FutureWarning: Default solver will be changed to 'lbfgs' in 0.22. Specify a solver to silence this warning.\n",
            "  FutureWarning)\n",
            "/usr/local/lib/python3.6/dist-packages/sklearn/linear_model/logistic.py:432: FutureWarning: Default solver will be changed to 'lbfgs' in 0.22. Specify a solver to silence this warning.\n",
            "  FutureWarning)\n",
            "/usr/local/lib/python3.6/dist-packages/sklearn/linear_model/logistic.py:432: FutureWarning: Default solver will be changed to 'lbfgs' in 0.22. Specify a solver to silence this warning.\n",
            "  FutureWarning)\n",
            "/usr/local/lib/python3.6/dist-packages/sklearn/linear_model/logistic.py:432: FutureWarning: Default solver will be changed to 'lbfgs' in 0.22. Specify a solver to silence this warning.\n",
            "  FutureWarning)\n",
            "/usr/local/lib/python3.6/dist-packages/sklearn/linear_model/logistic.py:432: FutureWarning: Default solver will be changed to 'lbfgs' in 0.22. Specify a solver to silence this warning.\n",
            "  FutureWarning)\n",
            "/usr/local/lib/python3.6/dist-packages/sklearn/linear_model/logistic.py:432: FutureWarning: Default solver will be changed to 'lbfgs' in 0.22. Specify a solver to silence this warning.\n",
            "  FutureWarning)\n"
          ],
          "name": "stderr"
        },
        {
          "output_type": "stream",
          "text": [
            "Frobenius norm and accuracy for regression based imputation for step number 1 are 10938.927994534588 and 0.9107806691449815%\n"
          ],
          "name": "stdout"
        },
        {
          "output_type": "stream",
          "text": [
            "/usr/local/lib/python3.6/dist-packages/sklearn/linear_model/logistic.py:432: FutureWarning: Default solver will be changed to 'lbfgs' in 0.22. Specify a solver to silence this warning.\n",
            "  FutureWarning)\n",
            "/usr/local/lib/python3.6/dist-packages/sklearn/linear_model/logistic.py:432: FutureWarning: Default solver will be changed to 'lbfgs' in 0.22. Specify a solver to silence this warning.\n",
            "  FutureWarning)\n",
            "/usr/local/lib/python3.6/dist-packages/sklearn/linear_model/logistic.py:432: FutureWarning: Default solver will be changed to 'lbfgs' in 0.22. Specify a solver to silence this warning.\n",
            "  FutureWarning)\n",
            "/usr/local/lib/python3.6/dist-packages/sklearn/linear_model/logistic.py:432: FutureWarning: Default solver will be changed to 'lbfgs' in 0.22. Specify a solver to silence this warning.\n",
            "  FutureWarning)\n",
            "/usr/local/lib/python3.6/dist-packages/sklearn/linear_model/logistic.py:432: FutureWarning: Default solver will be changed to 'lbfgs' in 0.22. Specify a solver to silence this warning.\n",
            "  FutureWarning)\n",
            "/usr/local/lib/python3.6/dist-packages/sklearn/linear_model/logistic.py:432: FutureWarning: Default solver will be changed to 'lbfgs' in 0.22. Specify a solver to silence this warning.\n",
            "  FutureWarning)\n",
            "/usr/local/lib/python3.6/dist-packages/sklearn/linear_model/logistic.py:432: FutureWarning: Default solver will be changed to 'lbfgs' in 0.22. Specify a solver to silence this warning.\n",
            "  FutureWarning)\n",
            "/usr/local/lib/python3.6/dist-packages/sklearn/linear_model/logistic.py:432: FutureWarning: Default solver will be changed to 'lbfgs' in 0.22. Specify a solver to silence this warning.\n",
            "  FutureWarning)\n",
            "/usr/local/lib/python3.6/dist-packages/sklearn/linear_model/logistic.py:432: FutureWarning: Default solver will be changed to 'lbfgs' in 0.22. Specify a solver to silence this warning.\n",
            "  FutureWarning)\n",
            "/usr/local/lib/python3.6/dist-packages/sklearn/linear_model/logistic.py:432: FutureWarning: Default solver will be changed to 'lbfgs' in 0.22. Specify a solver to silence this warning.\n",
            "  FutureWarning)\n",
            "/usr/local/lib/python3.6/dist-packages/sklearn/linear_model/logistic.py:432: FutureWarning: Default solver will be changed to 'lbfgs' in 0.22. Specify a solver to silence this warning.\n",
            "  FutureWarning)\n",
            "/usr/local/lib/python3.6/dist-packages/sklearn/linear_model/logistic.py:432: FutureWarning: Default solver will be changed to 'lbfgs' in 0.22. Specify a solver to silence this warning.\n",
            "  FutureWarning)\n",
            "/usr/local/lib/python3.6/dist-packages/sklearn/linear_model/logistic.py:432: FutureWarning: Default solver will be changed to 'lbfgs' in 0.22. Specify a solver to silence this warning.\n",
            "  FutureWarning)\n",
            "/usr/local/lib/python3.6/dist-packages/sklearn/linear_model/logistic.py:432: FutureWarning: Default solver will be changed to 'lbfgs' in 0.22. Specify a solver to silence this warning.\n",
            "  FutureWarning)\n",
            "/usr/local/lib/python3.6/dist-packages/sklearn/linear_model/logistic.py:432: FutureWarning: Default solver will be changed to 'lbfgs' in 0.22. Specify a solver to silence this warning.\n",
            "  FutureWarning)\n",
            "/usr/local/lib/python3.6/dist-packages/sklearn/linear_model/logistic.py:432: FutureWarning: Default solver will be changed to 'lbfgs' in 0.22. Specify a solver to silence this warning.\n",
            "  FutureWarning)\n",
            "/usr/local/lib/python3.6/dist-packages/sklearn/linear_model/logistic.py:432: FutureWarning: Default solver will be changed to 'lbfgs' in 0.22. Specify a solver to silence this warning.\n",
            "  FutureWarning)\n",
            "/usr/local/lib/python3.6/dist-packages/sklearn/linear_model/logistic.py:432: FutureWarning: Default solver will be changed to 'lbfgs' in 0.22. Specify a solver to silence this warning.\n",
            "  FutureWarning)\n",
            "/usr/local/lib/python3.6/dist-packages/sklearn/linear_model/logistic.py:432: FutureWarning: Default solver will be changed to 'lbfgs' in 0.22. Specify a solver to silence this warning.\n",
            "  FutureWarning)\n",
            "/usr/local/lib/python3.6/dist-packages/sklearn/linear_model/logistic.py:432: FutureWarning: Default solver will be changed to 'lbfgs' in 0.22. Specify a solver to silence this warning.\n",
            "  FutureWarning)\n",
            "/usr/local/lib/python3.6/dist-packages/sklearn/linear_model/logistic.py:432: FutureWarning: Default solver will be changed to 'lbfgs' in 0.22. Specify a solver to silence this warning.\n",
            "  FutureWarning)\n",
            "/usr/local/lib/python3.6/dist-packages/sklearn/linear_model/logistic.py:432: FutureWarning: Default solver will be changed to 'lbfgs' in 0.22. Specify a solver to silence this warning.\n",
            "  FutureWarning)\n",
            "/usr/local/lib/python3.6/dist-packages/sklearn/linear_model/logistic.py:432: FutureWarning: Default solver will be changed to 'lbfgs' in 0.22. Specify a solver to silence this warning.\n",
            "  FutureWarning)\n",
            "/usr/local/lib/python3.6/dist-packages/sklearn/linear_model/logistic.py:432: FutureWarning: Default solver will be changed to 'lbfgs' in 0.22. Specify a solver to silence this warning.\n",
            "  FutureWarning)\n",
            "/usr/local/lib/python3.6/dist-packages/sklearn/linear_model/logistic.py:432: FutureWarning: Default solver will be changed to 'lbfgs' in 0.22. Specify a solver to silence this warning.\n",
            "  FutureWarning)\n",
            "/usr/local/lib/python3.6/dist-packages/sklearn/linear_model/logistic.py:432: FutureWarning: Default solver will be changed to 'lbfgs' in 0.22. Specify a solver to silence this warning.\n",
            "  FutureWarning)\n",
            "/usr/local/lib/python3.6/dist-packages/sklearn/linear_model/logistic.py:432: FutureWarning: Default solver will be changed to 'lbfgs' in 0.22. Specify a solver to silence this warning.\n",
            "  FutureWarning)\n",
            "/usr/local/lib/python3.6/dist-packages/sklearn/linear_model/logistic.py:432: FutureWarning: Default solver will be changed to 'lbfgs' in 0.22. Specify a solver to silence this warning.\n",
            "  FutureWarning)\n",
            "/usr/local/lib/python3.6/dist-packages/sklearn/linear_model/logistic.py:432: FutureWarning: Default solver will be changed to 'lbfgs' in 0.22. Specify a solver to silence this warning.\n",
            "  FutureWarning)\n",
            "/usr/local/lib/python3.6/dist-packages/sklearn/linear_model/logistic.py:432: FutureWarning: Default solver will be changed to 'lbfgs' in 0.22. Specify a solver to silence this warning.\n",
            "  FutureWarning)\n",
            "/usr/local/lib/python3.6/dist-packages/sklearn/linear_model/logistic.py:432: FutureWarning: Default solver will be changed to 'lbfgs' in 0.22. Specify a solver to silence this warning.\n",
            "  FutureWarning)\n",
            "/usr/local/lib/python3.6/dist-packages/sklearn/linear_model/logistic.py:432: FutureWarning: Default solver will be changed to 'lbfgs' in 0.22. Specify a solver to silence this warning.\n",
            "  FutureWarning)\n",
            "/usr/local/lib/python3.6/dist-packages/sklearn/linear_model/logistic.py:432: FutureWarning: Default solver will be changed to 'lbfgs' in 0.22. Specify a solver to silence this warning.\n",
            "  FutureWarning)\n",
            "/usr/local/lib/python3.6/dist-packages/sklearn/linear_model/logistic.py:432: FutureWarning: Default solver will be changed to 'lbfgs' in 0.22. Specify a solver to silence this warning.\n",
            "  FutureWarning)\n",
            "/usr/local/lib/python3.6/dist-packages/sklearn/linear_model/logistic.py:432: FutureWarning: Default solver will be changed to 'lbfgs' in 0.22. Specify a solver to silence this warning.\n",
            "  FutureWarning)\n",
            "/usr/local/lib/python3.6/dist-packages/sklearn/linear_model/logistic.py:432: FutureWarning: Default solver will be changed to 'lbfgs' in 0.22. Specify a solver to silence this warning.\n",
            "  FutureWarning)\n",
            "/usr/local/lib/python3.6/dist-packages/sklearn/linear_model/logistic.py:432: FutureWarning: Default solver will be changed to 'lbfgs' in 0.22. Specify a solver to silence this warning.\n",
            "  FutureWarning)\n",
            "/usr/local/lib/python3.6/dist-packages/sklearn/linear_model/logistic.py:432: FutureWarning: Default solver will be changed to 'lbfgs' in 0.22. Specify a solver to silence this warning.\n",
            "  FutureWarning)\n"
          ],
          "name": "stderr"
        },
        {
          "output_type": "stream",
          "text": [
            "Frobenius norm and accuracy for regression based imputation for step number 2 are 9430.426745903798 and 0.9256505576208178%\n"
          ],
          "name": "stdout"
        },
        {
          "output_type": "stream",
          "text": [
            "/usr/local/lib/python3.6/dist-packages/sklearn/linear_model/logistic.py:432: FutureWarning: Default solver will be changed to 'lbfgs' in 0.22. Specify a solver to silence this warning.\n",
            "  FutureWarning)\n",
            "/usr/local/lib/python3.6/dist-packages/sklearn/linear_model/logistic.py:432: FutureWarning: Default solver will be changed to 'lbfgs' in 0.22. Specify a solver to silence this warning.\n",
            "  FutureWarning)\n",
            "/usr/local/lib/python3.6/dist-packages/sklearn/linear_model/logistic.py:432: FutureWarning: Default solver will be changed to 'lbfgs' in 0.22. Specify a solver to silence this warning.\n",
            "  FutureWarning)\n",
            "/usr/local/lib/python3.6/dist-packages/sklearn/linear_model/logistic.py:432: FutureWarning: Default solver will be changed to 'lbfgs' in 0.22. Specify a solver to silence this warning.\n",
            "  FutureWarning)\n",
            "/usr/local/lib/python3.6/dist-packages/sklearn/linear_model/logistic.py:432: FutureWarning: Default solver will be changed to 'lbfgs' in 0.22. Specify a solver to silence this warning.\n",
            "  FutureWarning)\n",
            "/usr/local/lib/python3.6/dist-packages/sklearn/linear_model/logistic.py:432: FutureWarning: Default solver will be changed to 'lbfgs' in 0.22. Specify a solver to silence this warning.\n",
            "  FutureWarning)\n",
            "/usr/local/lib/python3.6/dist-packages/sklearn/linear_model/logistic.py:432: FutureWarning: Default solver will be changed to 'lbfgs' in 0.22. Specify a solver to silence this warning.\n",
            "  FutureWarning)\n",
            "/usr/local/lib/python3.6/dist-packages/sklearn/linear_model/logistic.py:432: FutureWarning: Default solver will be changed to 'lbfgs' in 0.22. Specify a solver to silence this warning.\n",
            "  FutureWarning)\n",
            "/usr/local/lib/python3.6/dist-packages/sklearn/linear_model/logistic.py:432: FutureWarning: Default solver will be changed to 'lbfgs' in 0.22. Specify a solver to silence this warning.\n",
            "  FutureWarning)\n",
            "/usr/local/lib/python3.6/dist-packages/sklearn/linear_model/logistic.py:432: FutureWarning: Default solver will be changed to 'lbfgs' in 0.22. Specify a solver to silence this warning.\n",
            "  FutureWarning)\n",
            "/usr/local/lib/python3.6/dist-packages/sklearn/linear_model/logistic.py:432: FutureWarning: Default solver will be changed to 'lbfgs' in 0.22. Specify a solver to silence this warning.\n",
            "  FutureWarning)\n",
            "/usr/local/lib/python3.6/dist-packages/sklearn/linear_model/logistic.py:432: FutureWarning: Default solver will be changed to 'lbfgs' in 0.22. Specify a solver to silence this warning.\n",
            "  FutureWarning)\n",
            "/usr/local/lib/python3.6/dist-packages/sklearn/linear_model/logistic.py:432: FutureWarning: Default solver will be changed to 'lbfgs' in 0.22. Specify a solver to silence this warning.\n",
            "  FutureWarning)\n",
            "/usr/local/lib/python3.6/dist-packages/sklearn/linear_model/logistic.py:432: FutureWarning: Default solver will be changed to 'lbfgs' in 0.22. Specify a solver to silence this warning.\n",
            "  FutureWarning)\n",
            "/usr/local/lib/python3.6/dist-packages/sklearn/linear_model/logistic.py:432: FutureWarning: Default solver will be changed to 'lbfgs' in 0.22. Specify a solver to silence this warning.\n",
            "  FutureWarning)\n",
            "/usr/local/lib/python3.6/dist-packages/sklearn/linear_model/logistic.py:432: FutureWarning: Default solver will be changed to 'lbfgs' in 0.22. Specify a solver to silence this warning.\n",
            "  FutureWarning)\n",
            "/usr/local/lib/python3.6/dist-packages/sklearn/linear_model/logistic.py:432: FutureWarning: Default solver will be changed to 'lbfgs' in 0.22. Specify a solver to silence this warning.\n",
            "  FutureWarning)\n",
            "/usr/local/lib/python3.6/dist-packages/sklearn/linear_model/logistic.py:432: FutureWarning: Default solver will be changed to 'lbfgs' in 0.22. Specify a solver to silence this warning.\n",
            "  FutureWarning)\n",
            "/usr/local/lib/python3.6/dist-packages/sklearn/linear_model/logistic.py:432: FutureWarning: Default solver will be changed to 'lbfgs' in 0.22. Specify a solver to silence this warning.\n",
            "  FutureWarning)\n"
          ],
          "name": "stderr"
        },
        {
          "output_type": "stream",
          "text": [
            "Frobenius norm and accuracy for regression based imputation for step number 3 are 8572.822146771927 and 0.9219330855018587%\n"
          ],
          "name": "stdout"
        },
        {
          "output_type": "stream",
          "text": [
            "/usr/local/lib/python3.6/dist-packages/sklearn/linear_model/logistic.py:432: FutureWarning: Default solver will be changed to 'lbfgs' in 0.22. Specify a solver to silence this warning.\n",
            "  FutureWarning)\n",
            "/usr/local/lib/python3.6/dist-packages/sklearn/linear_model/logistic.py:432: FutureWarning: Default solver will be changed to 'lbfgs' in 0.22. Specify a solver to silence this warning.\n",
            "  FutureWarning)\n",
            "/usr/local/lib/python3.6/dist-packages/sklearn/linear_model/logistic.py:432: FutureWarning: Default solver will be changed to 'lbfgs' in 0.22. Specify a solver to silence this warning.\n",
            "  FutureWarning)\n",
            "/usr/local/lib/python3.6/dist-packages/sklearn/linear_model/logistic.py:432: FutureWarning: Default solver will be changed to 'lbfgs' in 0.22. Specify a solver to silence this warning.\n",
            "  FutureWarning)\n",
            "/usr/local/lib/python3.6/dist-packages/sklearn/linear_model/logistic.py:432: FutureWarning: Default solver will be changed to 'lbfgs' in 0.22. Specify a solver to silence this warning.\n",
            "  FutureWarning)\n",
            "/usr/local/lib/python3.6/dist-packages/sklearn/linear_model/logistic.py:432: FutureWarning: Default solver will be changed to 'lbfgs' in 0.22. Specify a solver to silence this warning.\n",
            "  FutureWarning)\n",
            "/usr/local/lib/python3.6/dist-packages/sklearn/linear_model/logistic.py:432: FutureWarning: Default solver will be changed to 'lbfgs' in 0.22. Specify a solver to silence this warning.\n",
            "  FutureWarning)\n",
            "/usr/local/lib/python3.6/dist-packages/sklearn/linear_model/logistic.py:432: FutureWarning: Default solver will be changed to 'lbfgs' in 0.22. Specify a solver to silence this warning.\n",
            "  FutureWarning)\n",
            "/usr/local/lib/python3.6/dist-packages/sklearn/linear_model/logistic.py:432: FutureWarning: Default solver will be changed to 'lbfgs' in 0.22. Specify a solver to silence this warning.\n",
            "  FutureWarning)\n",
            "/usr/local/lib/python3.6/dist-packages/sklearn/linear_model/logistic.py:432: FutureWarning: Default solver will be changed to 'lbfgs' in 0.22. Specify a solver to silence this warning.\n",
            "  FutureWarning)\n",
            "/usr/local/lib/python3.6/dist-packages/sklearn/linear_model/logistic.py:432: FutureWarning: Default solver will be changed to 'lbfgs' in 0.22. Specify a solver to silence this warning.\n",
            "  FutureWarning)\n",
            "/usr/local/lib/python3.6/dist-packages/sklearn/linear_model/logistic.py:432: FutureWarning: Default solver will be changed to 'lbfgs' in 0.22. Specify a solver to silence this warning.\n",
            "  FutureWarning)\n",
            "/usr/local/lib/python3.6/dist-packages/sklearn/linear_model/logistic.py:432: FutureWarning: Default solver will be changed to 'lbfgs' in 0.22. Specify a solver to silence this warning.\n",
            "  FutureWarning)\n",
            "/usr/local/lib/python3.6/dist-packages/sklearn/linear_model/logistic.py:432: FutureWarning: Default solver will be changed to 'lbfgs' in 0.22. Specify a solver to silence this warning.\n",
            "  FutureWarning)\n",
            "/usr/local/lib/python3.6/dist-packages/sklearn/linear_model/logistic.py:432: FutureWarning: Default solver will be changed to 'lbfgs' in 0.22. Specify a solver to silence this warning.\n",
            "  FutureWarning)\n",
            "/usr/local/lib/python3.6/dist-packages/sklearn/linear_model/logistic.py:432: FutureWarning: Default solver will be changed to 'lbfgs' in 0.22. Specify a solver to silence this warning.\n",
            "  FutureWarning)\n",
            "/usr/local/lib/python3.6/dist-packages/sklearn/linear_model/logistic.py:432: FutureWarning: Default solver will be changed to 'lbfgs' in 0.22. Specify a solver to silence this warning.\n",
            "  FutureWarning)\n",
            "/usr/local/lib/python3.6/dist-packages/sklearn/linear_model/logistic.py:432: FutureWarning: Default solver will be changed to 'lbfgs' in 0.22. Specify a solver to silence this warning.\n",
            "  FutureWarning)\n",
            "/usr/local/lib/python3.6/dist-packages/sklearn/linear_model/logistic.py:432: FutureWarning: Default solver will be changed to 'lbfgs' in 0.22. Specify a solver to silence this warning.\n",
            "  FutureWarning)\n",
            "/usr/local/lib/python3.6/dist-packages/sklearn/linear_model/logistic.py:432: FutureWarning: Default solver will be changed to 'lbfgs' in 0.22. Specify a solver to silence this warning.\n",
            "  FutureWarning)\n",
            "/usr/local/lib/python3.6/dist-packages/sklearn/linear_model/logistic.py:432: FutureWarning: Default solver will be changed to 'lbfgs' in 0.22. Specify a solver to silence this warning.\n",
            "  FutureWarning)\n",
            "/usr/local/lib/python3.6/dist-packages/sklearn/linear_model/logistic.py:432: FutureWarning: Default solver will be changed to 'lbfgs' in 0.22. Specify a solver to silence this warning.\n",
            "  FutureWarning)\n",
            "/usr/local/lib/python3.6/dist-packages/sklearn/linear_model/logistic.py:432: FutureWarning: Default solver will be changed to 'lbfgs' in 0.22. Specify a solver to silence this warning.\n",
            "  FutureWarning)\n",
            "/usr/local/lib/python3.6/dist-packages/sklearn/linear_model/logistic.py:432: FutureWarning: Default solver will be changed to 'lbfgs' in 0.22. Specify a solver to silence this warning.\n",
            "  FutureWarning)\n",
            "/usr/local/lib/python3.6/dist-packages/sklearn/linear_model/logistic.py:432: FutureWarning: Default solver will be changed to 'lbfgs' in 0.22. Specify a solver to silence this warning.\n",
            "  FutureWarning)\n",
            "/usr/local/lib/python3.6/dist-packages/sklearn/linear_model/logistic.py:432: FutureWarning: Default solver will be changed to 'lbfgs' in 0.22. Specify a solver to silence this warning.\n",
            "  FutureWarning)\n",
            "/usr/local/lib/python3.6/dist-packages/sklearn/linear_model/logistic.py:432: FutureWarning: Default solver will be changed to 'lbfgs' in 0.22. Specify a solver to silence this warning.\n",
            "  FutureWarning)\n",
            "/usr/local/lib/python3.6/dist-packages/sklearn/linear_model/logistic.py:432: FutureWarning: Default solver will be changed to 'lbfgs' in 0.22. Specify a solver to silence this warning.\n",
            "  FutureWarning)\n",
            "/usr/local/lib/python3.6/dist-packages/sklearn/linear_model/logistic.py:432: FutureWarning: Default solver will be changed to 'lbfgs' in 0.22. Specify a solver to silence this warning.\n",
            "  FutureWarning)\n",
            "/usr/local/lib/python3.6/dist-packages/sklearn/linear_model/logistic.py:432: FutureWarning: Default solver will be changed to 'lbfgs' in 0.22. Specify a solver to silence this warning.\n",
            "  FutureWarning)\n",
            "/usr/local/lib/python3.6/dist-packages/sklearn/linear_model/logistic.py:432: FutureWarning: Default solver will be changed to 'lbfgs' in 0.22. Specify a solver to silence this warning.\n",
            "  FutureWarning)\n",
            "/usr/local/lib/python3.6/dist-packages/sklearn/linear_model/logistic.py:432: FutureWarning: Default solver will be changed to 'lbfgs' in 0.22. Specify a solver to silence this warning.\n",
            "  FutureWarning)\n",
            "/usr/local/lib/python3.6/dist-packages/sklearn/linear_model/logistic.py:432: FutureWarning: Default solver will be changed to 'lbfgs' in 0.22. Specify a solver to silence this warning.\n",
            "  FutureWarning)\n",
            "/usr/local/lib/python3.6/dist-packages/sklearn/linear_model/logistic.py:432: FutureWarning: Default solver will be changed to 'lbfgs' in 0.22. Specify a solver to silence this warning.\n",
            "  FutureWarning)\n",
            "/usr/local/lib/python3.6/dist-packages/sklearn/linear_model/logistic.py:432: FutureWarning: Default solver will be changed to 'lbfgs' in 0.22. Specify a solver to silence this warning.\n",
            "  FutureWarning)\n",
            "/usr/local/lib/python3.6/dist-packages/sklearn/linear_model/logistic.py:432: FutureWarning: Default solver will be changed to 'lbfgs' in 0.22. Specify a solver to silence this warning.\n",
            "  FutureWarning)\n",
            "/usr/local/lib/python3.6/dist-packages/sklearn/linear_model/logistic.py:432: FutureWarning: Default solver will be changed to 'lbfgs' in 0.22. Specify a solver to silence this warning.\n",
            "  FutureWarning)\n"
          ],
          "name": "stderr"
        },
        {
          "output_type": "stream",
          "text": [
            "Frobenius norm and accuracy for regression based imputation for step number 4 are 7740.276157478176 and 0.929368029739777%\n"
          ],
          "name": "stdout"
        },
        {
          "output_type": "stream",
          "text": [
            "/usr/local/lib/python3.6/dist-packages/sklearn/linear_model/logistic.py:432: FutureWarning: Default solver will be changed to 'lbfgs' in 0.22. Specify a solver to silence this warning.\n",
            "  FutureWarning)\n",
            "/usr/local/lib/python3.6/dist-packages/sklearn/linear_model/logistic.py:432: FutureWarning: Default solver will be changed to 'lbfgs' in 0.22. Specify a solver to silence this warning.\n",
            "  FutureWarning)\n",
            "/usr/local/lib/python3.6/dist-packages/sklearn/linear_model/logistic.py:432: FutureWarning: Default solver will be changed to 'lbfgs' in 0.22. Specify a solver to silence this warning.\n",
            "  FutureWarning)\n",
            "/usr/local/lib/python3.6/dist-packages/sklearn/linear_model/logistic.py:432: FutureWarning: Default solver will be changed to 'lbfgs' in 0.22. Specify a solver to silence this warning.\n",
            "  FutureWarning)\n",
            "/usr/local/lib/python3.6/dist-packages/sklearn/linear_model/logistic.py:432: FutureWarning: Default solver will be changed to 'lbfgs' in 0.22. Specify a solver to silence this warning.\n",
            "  FutureWarning)\n",
            "/usr/local/lib/python3.6/dist-packages/sklearn/linear_model/logistic.py:432: FutureWarning: Default solver will be changed to 'lbfgs' in 0.22. Specify a solver to silence this warning.\n",
            "  FutureWarning)\n",
            "/usr/local/lib/python3.6/dist-packages/sklearn/linear_model/logistic.py:432: FutureWarning: Default solver will be changed to 'lbfgs' in 0.22. Specify a solver to silence this warning.\n",
            "  FutureWarning)\n",
            "/usr/local/lib/python3.6/dist-packages/sklearn/linear_model/logistic.py:432: FutureWarning: Default solver will be changed to 'lbfgs' in 0.22. Specify a solver to silence this warning.\n",
            "  FutureWarning)\n",
            "/usr/local/lib/python3.6/dist-packages/sklearn/linear_model/logistic.py:432: FutureWarning: Default solver will be changed to 'lbfgs' in 0.22. Specify a solver to silence this warning.\n",
            "  FutureWarning)\n",
            "/usr/local/lib/python3.6/dist-packages/sklearn/linear_model/logistic.py:432: FutureWarning: Default solver will be changed to 'lbfgs' in 0.22. Specify a solver to silence this warning.\n",
            "  FutureWarning)\n",
            "/usr/local/lib/python3.6/dist-packages/sklearn/linear_model/logistic.py:432: FutureWarning: Default solver will be changed to 'lbfgs' in 0.22. Specify a solver to silence this warning.\n",
            "  FutureWarning)\n",
            "/usr/local/lib/python3.6/dist-packages/sklearn/linear_model/logistic.py:432: FutureWarning: Default solver will be changed to 'lbfgs' in 0.22. Specify a solver to silence this warning.\n",
            "  FutureWarning)\n",
            "/usr/local/lib/python3.6/dist-packages/sklearn/linear_model/logistic.py:432: FutureWarning: Default solver will be changed to 'lbfgs' in 0.22. Specify a solver to silence this warning.\n",
            "  FutureWarning)\n",
            "/usr/local/lib/python3.6/dist-packages/sklearn/linear_model/logistic.py:432: FutureWarning: Default solver will be changed to 'lbfgs' in 0.22. Specify a solver to silence this warning.\n",
            "  FutureWarning)\n",
            "/usr/local/lib/python3.6/dist-packages/sklearn/linear_model/logistic.py:432: FutureWarning: Default solver will be changed to 'lbfgs' in 0.22. Specify a solver to silence this warning.\n",
            "  FutureWarning)\n",
            "/usr/local/lib/python3.6/dist-packages/sklearn/linear_model/logistic.py:432: FutureWarning: Default solver will be changed to 'lbfgs' in 0.22. Specify a solver to silence this warning.\n",
            "  FutureWarning)\n",
            "/usr/local/lib/python3.6/dist-packages/sklearn/linear_model/logistic.py:432: FutureWarning: Default solver will be changed to 'lbfgs' in 0.22. Specify a solver to silence this warning.\n",
            "  FutureWarning)\n",
            "/usr/local/lib/python3.6/dist-packages/sklearn/linear_model/logistic.py:432: FutureWarning: Default solver will be changed to 'lbfgs' in 0.22. Specify a solver to silence this warning.\n",
            "  FutureWarning)\n",
            "/usr/local/lib/python3.6/dist-packages/sklearn/linear_model/logistic.py:432: FutureWarning: Default solver will be changed to 'lbfgs' in 0.22. Specify a solver to silence this warning.\n",
            "  FutureWarning)\n",
            "/usr/local/lib/python3.6/dist-packages/sklearn/linear_model/logistic.py:432: FutureWarning: Default solver will be changed to 'lbfgs' in 0.22. Specify a solver to silence this warning.\n",
            "  FutureWarning)\n",
            "/usr/local/lib/python3.6/dist-packages/sklearn/linear_model/logistic.py:432: FutureWarning: Default solver will be changed to 'lbfgs' in 0.22. Specify a solver to silence this warning.\n",
            "  FutureWarning)\n",
            "/usr/local/lib/python3.6/dist-packages/sklearn/linear_model/logistic.py:432: FutureWarning: Default solver will be changed to 'lbfgs' in 0.22. Specify a solver to silence this warning.\n",
            "  FutureWarning)\n"
          ],
          "name": "stderr"
        },
        {
          "output_type": "stream",
          "text": [
            "Frobenius norm and accuracy for regression based imputation for step number 5 are 7090.749161839094 and 0.9144981412639405%\n"
          ],
          "name": "stdout"
        },
        {
          "output_type": "stream",
          "text": [
            "/usr/local/lib/python3.6/dist-packages/sklearn/linear_model/logistic.py:432: FutureWarning: Default solver will be changed to 'lbfgs' in 0.22. Specify a solver to silence this warning.\n",
            "  FutureWarning)\n"
          ],
          "name": "stderr"
        },
        {
          "output_type": "display_data",
          "data": {
            "image/png": "[encoded data removed]",
            "text/plain": [
              "<Figure size 432x288 with 1 Axes>"
            ]
          },
          "metadata": {
            "tags": []
          }
        },
        {
          "output_type": "display_data",
          "data": {
            "image/png": "[encoded data removed]",
            "text/plain": [
              "<Figure size 432x288 with 1 Axes>"
            ]
          },
          "metadata": {
            "tags": []
          }
        }
      ]
    },
    {
      "cell_type": "markdown",
      "metadata": {
        "id": "6_gLVUn8gAIU",
        "colab_type": "text"
      },
      "source": [
        "## Question 4: K-means"
      ]
    },
    {
      "cell_type": "markdown",
      "metadata": {
        "id": "Qv19AjV5gAIV",
        "colab_type": "text"
      },
      "source": [
        "We will implement the k-means clustering algorithm using the Breast Cancer dataset. As with all unsupervised learning problems, our goal is to discover and describe some hidden structure in unlabeled data. The K-means algorithm, in particular, attempts to determine how to separate the data into <em>k</em> distinct groups over a set of features ***given that there are k groups***.\n",
        "\n",
        "Knowing there are <em>k</em> distinct 'classes' however, doesn't tell anything about the content/properties within each class. If we could find samples that were representative of each of the *k* groups, then we could label the rest of the data based on how similar they are to each of the prototypical samples. Armed with this intuition, we can better understand the iterative k-means clustering process which will be used to find these representative samples (prototypes).\n",
        "\n",
        "We can define such prototypes using the following metrics:\n",
        "- centroid – the average of similar points w.r.t. continuous features (e.g. petal lengths in the iris dataset)\n",
        "- medioid – the most representative/most frequently occurring point w.r.t. categorical features (e.g. discrete color labels, blue vs. red vs. green.)"
      ]
    },
    {
      "cell_type": "markdown",
      "metadata": {
        "id": "uTQKopObgAIV",
        "colab_type": "text"
      },
      "source": [
        "### Import the Data ###"
      ]
    },
    {
      "cell_type": "code",
      "metadata": {
        "id": "aJQxFSkxyyXz",
        "colab_type": "code",
        "colab": {}
      },
      "source": [
        "import numpy as np\n",
        "from sklearn.decomposition import PCA\n",
        "from sklearn import preprocessing\n",
        "import matplotlib.pyplot as plt\n",
        "from scipy.spatial import distance\n",
        "import random"
      ],
      "execution_count": 0,
      "outputs": []
    },
    {
      "cell_type": "code",
      "metadata": {
        "id": "NBlxFn4ZgAIW",
        "colab_type": "code",
        "colab": {}
      },
      "source": [
        "# Read data (Breast Cancer Dataset). Remember to comment out the code not contained in a function.\n",
        "from sklearn.datasets import load_breast_cancer\n",
        "\n",
        "breast = load_breast_cancer()\n",
        "\n",
        "X = breast['data']\n",
        "y = breast['target']\n",
        "\n",
        "np.random.seed(100)\n",
        "p = np.random.permutation(len(X))\n",
        "X, y = X[p], y[p]\n",
        "\n",
        "X_train, y_train = X[:400], y[:400]\n",
        "X_val, y_val = X[400:500], y[400:500]\n",
        "X_test, y_test = X[500:], y[500:]"
      ],
      "execution_count": 0,
      "outputs": []
    },
    {
      "cell_type": "markdown",
      "metadata": {
        "id": "FlSY34oigAIX",
        "colab_type": "text"
      },
      "source": [
        "### K-means algorithm\n",
        "\n",
        "To implement K-means, we divided the algorithm into two functions: a helper method **kmeans_iter()** to update the centroid values and clusters at each interval, and **kmeans()** to run the helper function<br>  \n",
        "<br>\n",
        "The K-means process you should follow is listed below:\n",
        "1. Initialize each centroid to a random datapoint\n",
        "2. Update each node's cluster to that whose *centroid* is closest\n",
        "3. Calculate the new *centroid* of each cluster\n",
        "4. Repeat the previous 2 steps until no centroid value changes\n",
        "\n",
        "\n",
        "*Hint: you can use the `distance.euclidean(a, b)`   function from scipy to calculate the euclidean distances between lists.*\n",
        "\n",
        "If the **kmeans_iter()** function returns less than k centroids, let the updated centroid value of the empty cluster be the same as it was at the beginning of the iteration."
      ]
    },
    {
      "cell_type": "markdown",
      "metadata": {
        "id": "SEYRrsYm2bt1",
        "colab_type": "text"
      },
      "source": [
        "### 4.1 `kmeans_iter` function\n",
        "\n"
      ]
    },
    {
      "cell_type": "code",
      "metadata": {
        "id": "cXDhQs7igAIY",
        "colab_type": "code",
        "colab": {}
      },
      "source": [
        "\n",
        "def kmeans_iter(X, centroids):\n",
        "    \"\"\"\n",
        "    Performs one iteration of the k-means clustering algorithm.\n",
        "    \n",
        "    INPUT:\n",
        "      X - m by n matrix, where m is the number of training points\n",
        "      centroids - a list of the centroid values\n",
        "    \n",
        "    OUTPUT:\n",
        "      clusters - an updated list of the list of indices in X for each cluster \n",
        "      updated_centroids - an updated list of the new centroid values\n",
        "    \"\"\"\n",
        "    X = np.array(X)\n",
        "    centroids = np.array(centroids)\n",
        "    clusters = []\n",
        "    for x in X:\n",
        "      centroid_distances = []\n",
        "      for c in centroids:\n",
        "        centroid_distances.append(distance.euclidean(x, c))\n",
        "      clusters.append(np.argmin(centroid_distances))\n",
        "    updated_centroids = np.zeros(centroids.shape)\n",
        "    updated_centroids_n = np.zeros((centroids.shape[0],1))\n",
        "    for i in range(len(X)):\n",
        "      updated_centroids[clusters[i]] += X[i]\n",
        "      updated_centroids_n[clusters[i]] += 1\n",
        "    updated_centroids = np.divide(updated_centroids, updated_centroids_n)\n",
        "    for i in range(len(centroids)):\n",
        "      if updated_centroids_n[i,0] == 0:\n",
        "          updated_centroids[i] = centroids[i]\n",
        "\n",
        "    # TODO 4.1.1 your code here\n",
        "    \n",
        "    return (clusters, updated_centroids)\n",
        "    \n",
        "    "
      ],
      "execution_count": 0,
      "outputs": []
    },
    {
      "cell_type": "code",
      "metadata": {
        "id": "bdN6p_CD2vPw",
        "colab_type": "code",
        "outputId": "31ef9d7f-1ee8-43b8-b5a0-8d661c607762",
        "colab": {
          "base_uri": "https://localhost:8080/",
          "height": 51
        }
      },
      "source": [
        "### 4.1.1: check kmeans_iter and paste your results into your Latex document.\n",
        "\n",
        "X1 = [[1], [2], [10], [12]]\n",
        "\n",
        "init1 = [[1],[2]]\n",
        "init2 = [[1],[8]]\n",
        "init3 = [[2],[2]]\n",
        "\n",
        "X2 = [[0,5,0],[0,5,0],[0,4,3],[0,3,4]]\n",
        "\n",
        "init4 = [[2.5,0,0],[-2.5,0,0]]\n",
        "\n",
        "kmeans_iter(X1, init1)"
      ],
      "execution_count": 0,
      "outputs": [
        {
          "output_type": "execute_result",
          "data": {
            "text/plain": [
              "([0, 1, 1, 1], array([[1.],\n",
              "        [8.]]))"
            ]
          },
          "metadata": {
            "tags": []
          },
          "execution_count": 44
        }
      ]
    },
    {
      "cell_type": "markdown",
      "metadata": {
        "id": "U-Q9YE2M3Ao7",
        "colab_type": "text"
      },
      "source": [
        "#### Question 4.1.2\n",
        "\n",
        "If an iteration of the k-means algorithm returns less than K classes, what might that indicate about the data? Write your response in your Latex document."
      ]
    },
    {
      "cell_type": "markdown",
      "metadata": {
        "id": "2c7nv7mB3WX7",
        "colab_type": "text"
      },
      "source": [
        "### 4.2 Putting the algorithm together"
      ]
    },
    {
      "cell_type": "code",
      "metadata": {
        "id": "WAbU0m-2gAIa",
        "colab_type": "code",
        "colab": {}
      },
      "source": [
        "\n",
        "def kmeans(X, k):\n",
        "    \"\"\"\n",
        "    Performs k-means clustering by calling kmeans_iter until no centroid value changes.\n",
        "    \n",
        "    INPUT:\n",
        "      X - m by n matrix, where m is the number of training points\n",
        "      k - the number of clusters\n",
        "\n",
        "    OUTPUT:\n",
        "      clusters - a list of the list of indices in X for each cluster \n",
        "      centroids - a list of the centroid values for each cluster\n",
        "      iters - the number of iterations it took for k-means to converge\n",
        "    \"\"\"\n",
        "    \n",
        "    # Do not change random seed for consistency of plots when grading\n",
        "    random.seed(520)\n",
        "    centroid_init = random.sample(range(0,len(X)), k)\n",
        "    centroids = [X[centroid_init[i]] for i in range(k)] \n",
        "    prev_centroids = None    \n",
        "    iters = 0\n",
        "    \n",
        "    while not np.array_equal(centroids, prev_centroids):\n",
        "      prev_centroids = centroids\n",
        "      clusters, centroids = kmeans_iter(X, prev_centroids)\n",
        "      iters += 1\n",
        "      \n",
        "    return (clusters, centroids, iters)"
      ],
      "execution_count": 0,
      "outputs": []
    },
    {
      "cell_type": "markdown",
      "metadata": {
        "id": "SA1VmTMixjMN",
        "colab_type": "text"
      },
      "source": [
        "#### 4.2.1 Sanity Check\n",
        "Run the code below to make sure your kmeans function is partitioning the data correctly. The points are projected into two demensions using the first 2 PCA components. You should see a clear split between your clusters. Submit these graphs in your writeup under section 4.2.1."
      ]
    },
    {
      "cell_type": "code",
      "metadata": {
        "id": "6JR7I3fgxqBC",
        "colab_type": "code",
        "outputId": "b97cfaff-76e2-4f94-b25a-495ed7ba2fdd",
        "colab": {
          "base_uri": "https://localhost:8080/",
          "height": 860
        }
      },
      "source": [
        "pca = PCA(n_components = 2)\n",
        "v = pca.fit(np.transpose(X)).components_\n",
        "\n",
        "for k in [2,4,20]:\n",
        "    (clusters, centroids, iters) = kmeans(X,k)\n",
        "    print(iters)\n",
        "    plt.scatter(v[0], v[1], c=clusters, s= 20)\n",
        "    plt.title(\"Breast Cancer Clusters (k = \"+str(k) + \")\")\n",
        "    plt.show()"
      ],
      "execution_count": 0,
      "outputs": [
        {
          "output_type": "stream",
          "text": [
            "9\n"
          ],
          "name": "stdout"
        },
        {
          "output_type": "display_data",
          "data": {
            "image/png": "[encoded data removed]",
            "text/plain": [
              "<Figure size 432x288 with 1 Axes>"
            ]
          },
          "metadata": {
            "tags": []
          }
        },
        {
          "output_type": "stream",
          "text": [
            "23\n"
          ],
          "name": "stdout"
        },
        {
          "output_type": "display_data",
          "data": {
            "image/png": "[encoded data removed]",
            "text/plain": [
              "<Figure size 432x288 with 1 Axes>"
            ]
          },
          "metadata": {
            "tags": []
          }
        },
        {
          "output_type": "stream",
          "text": [
            "20\n"
          ],
          "name": "stdout"
        },
        {
          "output_type": "display_data",
          "data": {
            "image/png": "[encoded data removed]",
            "text/plain": [
              "<Figure size 432x288 with 1 Axes>"
            ]
          },
          "metadata": {
            "tags": []
          }
        }
      ]
    },
    {
      "cell_type": "markdown",
      "metadata": {
        "id": "JhenJRUc8IdO",
        "colab_type": "text"
      },
      "source": [
        "#### Question 4.2.2\n",
        "\n",
        "Write down how many iterations it took for your kmeans to converge for each of the sanity-check graphs. How does this number compare with what you expected it to be? How does the number of iterations seem to vary proportional to k?"
      ]
    },
    {
      "cell_type": "markdown",
      "metadata": {
        "id": "KiIbsCNagAIb",
        "colab_type": "text"
      },
      "source": [
        "## 4.3 Choosing a Value for K\n",
        "\n",
        "Now that we can separate our data into K groups, we just need to figure out the best value for K (how many clusters our data really consists of)."
      ]
    },
    {
      "cell_type": "markdown",
      "metadata": {
        "id": "aFjowvzBgAIc",
        "colab_type": "text"
      },
      "source": [
        "## Testing Cluster Distortion \n",
        "\n",
        "One way to decide on a value for K is to run K-Means and plot the distortion (sum of squared error given Euclidean distance). From that we can find the \"elbow of the graph;\" indicating the best tradeoff between number of clusters and distortion.\n",
        "\n",
        "In the function **test_cluster_size**,  iterate over possible cluster sizes from 2 to a *max_cluster* (inclusive) value. For each *k*, run K-means and calculate its distortion."
      ]
    },
    {
      "cell_type": "code",
      "metadata": {
        "id": "s1reo7bfgAIc",
        "colab_type": "code",
        "colab": {}
      },
      "source": [
        "def test_cluster_size(X, max_k):\n",
        "    \"\"\"\n",
        "    Iterates over possible cluster from 2 to max_k, running k-means and calulating distortion.\n",
        "    \n",
        "    INPUT:\n",
        "      X - m by n matrix, where m is the number of training points\n",
        "      max_k - the maximum number of clusters to consider\n",
        "    \n",
        "    OUTPUT:\n",
        "      scores - a list of scores, where score[i] is the distortion for k-means with i clusters\n",
        "    \"\"\"\n",
        "    scores = [0] * (max_k-1)\n",
        "    \n",
        "    for k in range(max_k-1):\n",
        "      clusters, centroids, iters = kmeans(X,k+2)\n",
        "      for i in range(len(X)):\n",
        "        x = X[i]\n",
        "        closest_centroid = centroids[clusters[i]]\n",
        "        scores[k] += distance.euclidean(x, closest_centroid)\n",
        "    \n",
        "    return scores"
      ],
      "execution_count": 0,
      "outputs": []
    },
    {
      "cell_type": "markdown",
      "metadata": {
        "id": "kMC16N7LgAIe",
        "colab_type": "text"
      },
      "source": [
        "### Distortion Plot\n",
        "Run the code below to plot the distortion as *k* increases from (2 to 25). Record your graph in your writeup along with the value of K you would choose."
      ]
    },
    {
      "cell_type": "code",
      "metadata": {
        "id": "j7htmrE5gAIe",
        "colab_type": "code",
        "outputId": "60f4947f-a4c1-4999-f751-b941859af063",
        "colab": {
          "base_uri": "https://localhost:8080/",
          "height": 295
        }
      },
      "source": [
        "max_k = 25\n",
        "\n",
        "scores = test_cluster_size(X, max_k)\n",
        "\n",
        "plt.plot(range(max_k-1), scores, label='distortion')\n",
        "plt.legend(bbox_to_anchor=(1.05, 1), loc='upper left', borderaxespad=0.)\n",
        "plt.title('K-Means Distortion with K ranging from 2-25')\n",
        "plt.ylabel('Distortion')\n",
        "plt.xlabel('K Value')\n",
        "plt.xticks(range(max_k-1), range(2,max_k+1))\n",
        "plt.show()"
      ],
      "execution_count": 0,
      "outputs": [
        {
          "output_type": "display_data",
          "data": {
            "image/png": "[encoded data removed]",
            "text/plain": [
              "<Figure size 432x288 with 1 Axes>"
            ]
          },
          "metadata": {
            "tags": []
          }
        }
      ]
    },
    {
      "cell_type": "markdown",
      "metadata": {
        "id": "GgWvP5_UgAIh",
        "colab_type": "text"
      },
      "source": [
        "### Feature Scaling Using min-max\n",
        "Given an input matrix X, we can rescale each feature along its min/max value range, as follows:"
      ]
    },
    {
      "cell_type": "code",
      "metadata": {
        "id": "PXycI26ygAIh",
        "colab_type": "code",
        "colab": {}
      },
      "source": [
        "X_copy = X.copy()\n",
        "min_max_scaler = preprocessing.MinMaxScaler()\n",
        "X_scaled = min_max_scaler.fit_transform(X_copy)"
      ],
      "execution_count": 0,
      "outputs": []
    },
    {
      "cell_type": "markdown",
      "metadata": {
        "id": "wPLP0_K_gAIj",
        "colab_type": "text"
      },
      "source": [
        "Now plot the distortion as *k* increases from (2 to 25). Record your graph in your writeup along with the value of K you would choose"
      ]
    },
    {
      "cell_type": "code",
      "metadata": {
        "id": "xri0CAcZgAIk",
        "colab_type": "code",
        "outputId": "e77e262d-181b-455c-ff19-b2ff42455ae4",
        "colab": {
          "base_uri": "https://localhost:8080/",
          "height": 295
        }
      },
      "source": [
        "max_k = 25\n",
        "scores = test_cluster_size(X_scaled, max_k)\n",
        "\n",
        "plt.plot(range(max_k-1), scores, label='distortion')\n",
        "plt.legend(bbox_to_anchor=(1.05, 1), loc='upper left', borderaxespad=0.)\n",
        "plt.title('K-Means Min-Max Scaled Distortion with K ranging from 2-25')\n",
        "plt.ylabel('Distortion')\n",
        "plt.xlabel('K Value')\n",
        "plt.xticks(range(max_k-1), range(2,max_k+1))\n",
        "plt.show()"
      ],
      "execution_count": 0,
      "outputs": [
        {
          "output_type": "display_data",
          "data": {
            "image/png": "[encoded data removed]",
            "text/plain": [
              "<Figure size 432x288 with 1 Axes>"
            ]
          },
          "metadata": {
            "tags": []
          }
        }
      ]
    },
    {
      "cell_type": "markdown",
      "metadata": {
        "id": "sztEDotzgAIl",
        "colab_type": "text"
      },
      "source": [
        "### Log Scaling\n",
        "As an alternative,  try adding 1 to all elements in the original matrix and then take the numpy log of all elements in the original matrix. This is the NLP-inspired version, since word frequencies are informative but follow a Zipfian distribution. Call this matrix X_log.\n",
        "\n",
        "Again, plot the number of clusters (from 2 to 25) vs distortion. Find the “elbow” after which the change in distortion tapers off notably."
      ]
    },
    {
      "cell_type": "code",
      "metadata": {
        "id": "cB8DVYKLgAIm",
        "colab_type": "code",
        "outputId": "8edf3c52-9eca-423a-e850-f6311163dfce",
        "colab": {
          "base_uri": "https://localhost:8080/",
          "height": 295
        }
      },
      "source": [
        "def logarithmize(x):\n",
        "    return np.log(x+1)\n",
        "\n",
        "logarithmize_v=np.vectorize(logarithmize)\n",
        "X_copy2 = X.copy()\n",
        "X_log=logarithmize_v(X_copy2)\n",
        "\n",
        "max_k = 25\n",
        "scores = test_cluster_size(X_log, max_k)\n",
        "\n",
        "plt.plot(range(max_k-1), scores, label='distortion')\n",
        "plt.legend(bbox_to_anchor=(1.05, 1), loc='upper left', borderaxespad=0.)\n",
        "plt.title('K-Means Min-Max Scaled Distortion with K ranging from 2-25')\n",
        "plt.ylabel('Distortion')\n",
        "plt.xlabel('K Value')\n",
        "plt.xticks(range(max_k-1), range(2,max_k+1))\n",
        "plt.show()"
      ],
      "execution_count": 0,
      "outputs": [
        {
          "output_type": "display_data",
          "data": {
            "image/png": "[encoded data removed]",
            "text/plain": [
              "<Figure size 432x288 with 1 Axes>"
            ]
          },
          "metadata": {
            "tags": []
          }
        }
      ]
    },
    {
      "cell_type": "markdown",
      "metadata": {
        "id": "Sf63DZffgAIn",
        "colab_type": "text"
      },
      "source": [
        "### 4.4 The Variance Ratio Criterion"
      ]
    },
    {
      "cell_type": "markdown",
      "metadata": {
        "id": "8TsGeMkxgAIo",
        "colab_type": "text"
      },
      "source": [
        "Another distortion metric called the Variance Ratio Criterion (VRC) is given by\n",
        "$$ VRC(K) = \\frac{SS_B}{k-1} / \\frac{SS_W}{N-k}$$\n",
        "where SS<sub>B</sub> is the sum of squared distance between the cluster centers and the overall sample mean (calculated per data point), *k* is the number of clusters, SS<sub>W</sub> is the sum of square distance between data points and their assigned cluster centers, and N is the number of data points.\n",
        "\n",
        "Write the function **test_vrc** that computes the VRC on clusterings of size 2 up to size max_k. Note that SS<sub>W</sub> is the distortion metric."
      ]
    },
    {
      "cell_type": "code",
      "metadata": {
        "id": "CYNOIhwKgAIo",
        "colab_type": "code",
        "colab": {}
      },
      "source": [
        "\n",
        "def test_vrc(X, max_k):\n",
        "    \"\"\"\n",
        "    INPUT:\n",
        "      X - m by n matrix, where m is the number of training points\n",
        "      max_k - the maximum number of clusters to consider\n",
        "    \n",
        "    OUTPUT:\n",
        "      scores - a list of scores, where score[i] is VRC(i) \n",
        "    \"\"\"\n",
        "    scores = []\n",
        "    overall_mean=np.mean(X,axis=0)\n",
        "    N = X.shape[0]\n",
        "\n",
        "    for k in range(max_k-1):\n",
        "      clusters, centroids, iters = kmeans(X,k+2)\n",
        "      \n",
        "      ssb = 0\n",
        "      for c in centroids:\n",
        "        ssb += distance.euclidean(overall_mean,c)\n",
        "\n",
        "      ssw = 0\n",
        "      for i in range(len(X)):\n",
        "        x = X[i]\n",
        "        closest_centroid = centroids[clusters[i]]\n",
        "        ssw += distance.euclidean(x, closest_centroid)\n",
        "      \n",
        "      VRC = (ssb/((k+2)-1))/(ssw/(N-(k+2)))\n",
        "      scores.append(VRC)\n",
        "    return scores"
      ],
      "execution_count": 0,
      "outputs": []
    },
    {
      "cell_type": "markdown",
      "metadata": {
        "id": "516sXOtvgAIq",
        "colab_type": "text"
      },
      "source": [
        "#### 4.4.1 VRC Plot\n",
        "Using the original version of your data, (**so not the scaled or log**), run the code below to plot VRC(k) as *k* increases from (2 to 25). Record your graph in your writeup along with the value of K you would choose. For the VRC plot, you no longer looking for an elbow, but instead looking for the **first local maximum.** "
      ]
    },
    {
      "cell_type": "code",
      "metadata": {
        "id": "tFibkA8YgAIq",
        "colab_type": "code",
        "outputId": "25f1e42e-1e51-475f-b01b-5c75177e1201",
        "colab": {
          "base_uri": "https://localhost:8080/",
          "height": 295
        }
      },
      "source": [
        "max_k = 25\n",
        "\n",
        "scores = test_vrc(X, max_k)\n",
        "\n",
        "plt.plot(range(max_k-1), scores, label='VRC(k)')\n",
        "plt.legend(bbox_to_anchor=(1.05, 1), loc='upper left', borderaxespad=0.)\n",
        "plt.title('VRC values from K ranging from 2-25')\n",
        "plt.ylabel('VRC(k)')\n",
        "plt.xlabel('K Value')\n",
        "plt.xticks(range(max_k-1), range(2,max_k+1))\n",
        "plt.show()"
      ],
      "execution_count": 0,
      "outputs": [
        {
          "output_type": "display_data",
          "data": {
            "image/png": "[encoded data removed]",
            "text/plain": [
              "<Figure size 432x288 with 1 Axes>"
            ]
          },
          "metadata": {
            "tags": []
          }
        }
      ]
    },
    {
      "cell_type": "markdown",
      "metadata": {
        "id": "fEUP6xwn3yag",
        "colab_type": "text"
      },
      "source": [
        "\n",
        "# Turning it in\n",
        "\n",
        "**This notebook will not be autograded, so no need to comment out code outside of functions.**\n",
        "\n",
        "1. Download this notebook as a `hw6.py` file with the functions implemented and the sandbox code commented out\n",
        "  - go to \"File -> Download .py\"\n",
        "  \n",
        "2. Submit `hw6.py` file to Gradescope (you can do this as many times as you'd like before the deadline)"
      ]
    }
  ]
}